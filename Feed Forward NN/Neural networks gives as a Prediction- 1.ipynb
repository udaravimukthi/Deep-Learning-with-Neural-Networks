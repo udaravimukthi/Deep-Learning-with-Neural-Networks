{
 "cells": [
  {
   "cell_type": "markdown",
   "metadata": {},
   "source": [
    "# Neural Network gives a Predicition"
   ]
  },
  {
   "cell_type": "code",
   "execution_count": 1,
   "metadata": {},
   "outputs": [],
   "source": [
    "import numpy as np\n",
    "\n",
    "w13=0.06\n",
    "w14=-0.05\n",
    "w15=0.07\n",
    "\n",
    "w23=0.06\n",
    "w24=-0.01\n",
    "w25=-0.06\n",
    "\n",
    "w36=0.05\n",
    "w46=-0.04\n",
    "w56=0.03\n",
    "\n",
    "w37=0.02\n",
    "w47=0.01\n",
    "w57=0.09\n",
    "\n",
    "b3=0\n",
    "b4=0\n",
    "b5=0\n",
    "\n",
    "b6=0\n",
    "b7=0"
   ]
  },
  {
   "cell_type": "markdown",
   "metadata": {},
   "source": [
    "# Layer 1 Weights"
   ]
  },
  {
   "cell_type": "code",
   "execution_count": 2,
   "metadata": {},
   "outputs": [
    {
     "name": "stdout",
     "output_type": "stream",
     "text": [
      "[[ 0.06  0.06]\n",
      " [-0.05 -0.01]\n",
      " [ 0.07 -0.06]] (3, 2)\n"
     ]
    }
   ],
   "source": [
    "WL1=np.array([[w13,w23],\n",
    "             [w14,w24],\n",
    "              [w15,w25]])\n",
    "\n",
    "bL1=np.array([b3,b4,b5]).reshape(-1,1)\n",
    "\n",
    "print(WL1,WL1.shape)"
   ]
  },
  {
   "cell_type": "markdown",
   "metadata": {},
   "source": [
    "# Layer 2 Weights"
   ]
  },
  {
   "cell_type": "code",
   "execution_count": 3,
   "metadata": {},
   "outputs": [
    {
     "name": "stdout",
     "output_type": "stream",
     "text": [
      "[[ 0.05 -0.04  0.03]\n",
      " [ 0.02  0.01  0.09]] (2, 3)\n"
     ]
    }
   ],
   "source": [
    "WL2=np.array([[w36,w46,w56],\n",
    "             [w37,w47,w57]])\n",
    "\n",
    "bL2=np.array([b6,b7]).reshape(-1,1)\n",
    "\n",
    "print(WL2,WL2.shape)"
   ]
  },
  {
   "cell_type": "markdown",
   "metadata": {},
   "source": [
    "# inputs"
   ]
  },
  {
   "cell_type": "code",
   "execution_count": 4,
   "metadata": {},
   "outputs": [
    {
     "name": "stdout",
     "output_type": "stream",
     "text": [
      "[[37]\n",
      " [40]] (2, 1)\n"
     ]
    }
   ],
   "source": [
    "x1=37\n",
    "x2=40\n",
    "\n",
    "Xs=np.array([x1,x2]).reshape(-1,1)\n",
    "print(Xs,Xs.shape)"
   ]
  },
  {
   "cell_type": "markdown",
   "metadata": {},
   "source": [
    "# Feed forawarding (Forward Propagation)"
   ]
  },
  {
   "cell_type": "code",
   "execution_count": 5,
   "metadata": {},
   "outputs": [
    {
     "name": "stdout",
     "output_type": "stream",
     "text": [
      "[[ 4.62]\n",
      " [-2.25]\n",
      " [ 0.19]]\n"
     ]
    }
   ],
   "source": [
    "#Layer 2\n",
    "\n",
    "x1=37\n",
    "x2=40\n",
    "\n",
    "YL2=np.matmul(WL1,Xs)+bL1\n",
    "print(YL2)"
   ]
  },
  {
   "cell_type": "markdown",
   "metadata": {},
   "source": [
    "# Output"
   ]
  },
  {
   "cell_type": "code",
   "execution_count": 6,
   "metadata": {},
   "outputs": [
    {
     "name": "stdout",
     "output_type": "stream",
     "text": [
      "[[0.3267]\n",
      " [0.087 ]]\n"
     ]
    }
   ],
   "source": [
    "#Layer 3 - Output Layer\n",
    "\n",
    "YL3=np.matmul(WL2,YL2)+bL2\n",
    "print(YL3)"
   ]
  },
  {
   "cell_type": "markdown",
   "metadata": {},
   "source": [
    "# Actual vs Predicted\n",
    "\n",
    "Y6(rAIN)       actual(0)      Predicted (0.3267)\n",
    "Y7(No rain)    actual(1)      Predicted (0.087)"
   ]
  },
  {
   "cell_type": "markdown",
   "metadata": {},
   "source": [
    "# Error loss"
   ]
  },
  {
   "cell_type": "code",
   "execution_count": 8,
   "metadata": {},
   "outputs": [
    {
     "name": "stdout",
     "output_type": "stream",
     "text": [
      "0.52295\n"
     ]
    }
   ],
   "source": [
    "error=np.power(0-0.33,2)+np.power(1-0.09,2)/2\n",
    "print(error)"
   ]
  },
  {
   "cell_type": "code",
   "execution_count": null,
   "metadata": {},
   "outputs": [],
   "source": []
  }
 ],
 "metadata": {
  "kernelspec": {
   "display_name": "Python 3",
   "language": "python",
   "name": "python3"
  },
  "language_info": {
   "codemirror_mode": {
    "name": "ipython",
    "version": 3
   },
   "file_extension": ".py",
   "mimetype": "text/x-python",
   "name": "python",
   "nbconvert_exporter": "python",
   "pygments_lexer": "ipython3",
   "version": "3.8.5"
  }
 },
 "nbformat": 4,
 "nbformat_minor": 4
}
