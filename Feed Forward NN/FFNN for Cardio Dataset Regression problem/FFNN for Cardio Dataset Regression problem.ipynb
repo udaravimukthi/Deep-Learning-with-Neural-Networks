{
 "cells": [
  {
   "cell_type": "markdown",
   "metadata": {},
   "source": [
    "# Lets train a FFNN for a Regression Problem"
   ]
  },
  {
   "cell_type": "code",
   "execution_count": 1,
   "metadata": {},
   "outputs": [],
   "source": [
    "from matplotlib import pyplot as plt\n",
    "\n",
    "import pandas as pd\n",
    "import numpy as np"
   ]
  },
  {
   "cell_type": "markdown",
   "metadata": {},
   "source": [
    "## Reading the dataset"
   ]
  },
  {
   "cell_type": "code",
   "execution_count": 2,
   "metadata": {
    "scrolled": true
   },
   "outputs": [
    {
     "data": {
      "text/html": [
       "<div>\n",
       "<style scoped>\n",
       "    .dataframe tbody tr th:only-of-type {\n",
       "        vertical-align: middle;\n",
       "    }\n",
       "\n",
       "    .dataframe tbody tr th {\n",
       "        vertical-align: top;\n",
       "    }\n",
       "\n",
       "    .dataframe thead th {\n",
       "        text-align: right;\n",
       "    }\n",
       "</style>\n",
       "<table border=\"1\" class=\"dataframe\">\n",
       "  <thead>\n",
       "    <tr style=\"text-align: right;\">\n",
       "      <th></th>\n",
       "      <th>SEX</th>\n",
       "      <th>AGEIR</th>\n",
       "      <th>TC</th>\n",
       "      <th>HDL</th>\n",
       "      <th>SMOKE_</th>\n",
       "      <th>BPMED</th>\n",
       "      <th>DIAB_01</th>\n",
       "      <th>RISK</th>\n",
       "    </tr>\n",
       "  </thead>\n",
       "  <tbody>\n",
       "    <tr>\n",
       "      <th>0</th>\n",
       "      <td>2</td>\n",
       "      <td>48</td>\n",
       "      <td>236</td>\n",
       "      <td>66</td>\n",
       "      <td>0</td>\n",
       "      <td>2</td>\n",
       "      <td>0</td>\n",
       "      <td>1.1</td>\n",
       "    </tr>\n",
       "    <tr>\n",
       "      <th>1</th>\n",
       "      <td>1</td>\n",
       "      <td>48</td>\n",
       "      <td>260</td>\n",
       "      <td>51</td>\n",
       "      <td>0</td>\n",
       "      <td>2</td>\n",
       "      <td>1</td>\n",
       "      <td>7.0</td>\n",
       "    </tr>\n",
       "    <tr>\n",
       "      <th>2</th>\n",
       "      <td>1</td>\n",
       "      <td>44</td>\n",
       "      <td>187</td>\n",
       "      <td>49</td>\n",
       "      <td>1</td>\n",
       "      <td>2</td>\n",
       "      <td>0</td>\n",
       "      <td>7.0</td>\n",
       "    </tr>\n",
       "    <tr>\n",
       "      <th>3</th>\n",
       "      <td>2</td>\n",
       "      <td>42</td>\n",
       "      <td>216</td>\n",
       "      <td>57</td>\n",
       "      <td>1</td>\n",
       "      <td>2</td>\n",
       "      <td>0</td>\n",
       "      <td>0.4</td>\n",
       "    </tr>\n",
       "    <tr>\n",
       "      <th>4</th>\n",
       "      <td>2</td>\n",
       "      <td>56</td>\n",
       "      <td>156</td>\n",
       "      <td>42</td>\n",
       "      <td>0</td>\n",
       "      <td>2</td>\n",
       "      <td>0</td>\n",
       "      <td>2.2</td>\n",
       "    </tr>\n",
       "    <tr>\n",
       "      <th>...</th>\n",
       "      <td>...</td>\n",
       "      <td>...</td>\n",
       "      <td>...</td>\n",
       "      <td>...</td>\n",
       "      <td>...</td>\n",
       "      <td>...</td>\n",
       "      <td>...</td>\n",
       "      <td>...</td>\n",
       "    </tr>\n",
       "    <tr>\n",
       "      <th>6639</th>\n",
       "      <td>2</td>\n",
       "      <td>65</td>\n",
       "      <td>307</td>\n",
       "      <td>42</td>\n",
       "      <td>1</td>\n",
       "      <td>1</td>\n",
       "      <td>1</td>\n",
       "      <td>36.6</td>\n",
       "    </tr>\n",
       "    <tr>\n",
       "      <th>6640</th>\n",
       "      <td>2</td>\n",
       "      <td>42</td>\n",
       "      <td>169</td>\n",
       "      <td>56</td>\n",
       "      <td>0</td>\n",
       "      <td>1</td>\n",
       "      <td>0</td>\n",
       "      <td>0.8</td>\n",
       "    </tr>\n",
       "    <tr>\n",
       "      <th>6641</th>\n",
       "      <td>1</td>\n",
       "      <td>65</td>\n",
       "      <td>212</td>\n",
       "      <td>35</td>\n",
       "      <td>1</td>\n",
       "      <td>1</td>\n",
       "      <td>0</td>\n",
       "      <td>30.6</td>\n",
       "    </tr>\n",
       "    <tr>\n",
       "      <th>6642</th>\n",
       "      <td>1</td>\n",
       "      <td>66</td>\n",
       "      <td>184</td>\n",
       "      <td>39</td>\n",
       "      <td>0</td>\n",
       "      <td>1</td>\n",
       "      <td>0</td>\n",
       "      <td>23.8</td>\n",
       "    </tr>\n",
       "    <tr>\n",
       "      <th>6643</th>\n",
       "      <td>2</td>\n",
       "      <td>45</td>\n",
       "      <td>203</td>\n",
       "      <td>51</td>\n",
       "      <td>0</td>\n",
       "      <td>2</td>\n",
       "      <td>0</td>\n",
       "      <td>1.0</td>\n",
       "    </tr>\n",
       "  </tbody>\n",
       "</table>\n",
       "<p>6644 rows × 8 columns</p>\n",
       "</div>"
      ],
      "text/plain": [
       "      SEX  AGEIR   TC  HDL  SMOKE_  BPMED  DIAB_01  RISK\n",
       "0       2     48  236   66       0      2        0   1.1\n",
       "1       1     48  260   51       0      2        1   7.0\n",
       "2       1     44  187   49       1      2        0   7.0\n",
       "3       2     42  216   57       1      2        0   0.4\n",
       "4       2     56  156   42       0      2        0   2.2\n",
       "...   ...    ...  ...  ...     ...    ...      ...   ...\n",
       "6639    2     65  307   42       1      1        1  36.6\n",
       "6640    2     42  169   56       0      1        0   0.8\n",
       "6641    1     65  212   35       1      1        0  30.6\n",
       "6642    1     66  184   39       0      1        0  23.8\n",
       "6643    2     45  203   51       0      2        0   1.0\n",
       "\n",
       "[6644 rows x 8 columns]"
      ]
     },
     "execution_count": 2,
     "metadata": {},
     "output_type": "execute_result"
    }
   ],
   "source": [
    "df=pd.read_csv('cardio_dataset.csv')\n",
    "df"
   ]
  },
  {
   "cell_type": "markdown",
   "metadata": {},
   "source": [
    "# data and target"
   ]
  },
  {
   "cell_type": "code",
   "execution_count": 3,
   "metadata": {},
   "outputs": [],
   "source": [
    "dataset=df.values\n",
    "\n",
    "data=dataset[:,0:7]\n",
    "target=dataset[:,7]\n"
   ]
  },
  {
   "cell_type": "code",
   "execution_count": 4,
   "metadata": {},
   "outputs": [
    {
     "name": "stdout",
     "output_type": "stream",
     "text": [
      "[[  2.  48. 236. ...   0.   2.   0.]\n",
      " [  1.  48. 260. ...   0.   2.   1.]\n",
      " [  1.  44. 187. ...   1.   2.   0.]\n",
      " ...\n",
      " [  1.  65. 212. ...   1.   1.   0.]\n",
      " [  1.  66. 184. ...   0.   1.   0.]\n",
      " [  2.  45. 203. ...   0.   2.   0.]] (6644, 7)\n"
     ]
    }
   ],
   "source": [
    "print(data,data.shape)"
   ]
  },
  {
   "cell_type": "code",
   "execution_count": 5,
   "metadata": {},
   "outputs": [
    {
     "name": "stdout",
     "output_type": "stream",
     "text": [
      "[ 1.1  7.   7.  ... 30.6 23.8  1. ] (6644,)\n"
     ]
    }
   ],
   "source": [
    "print(target,target.shape)"
   ]
  },
  {
   "cell_type": "code",
   "execution_count": 6,
   "metadata": {},
   "outputs": [
    {
     "name": "stdout",
     "output_type": "stream",
     "text": [
      "(6644, 1) [[ 1.1]\n",
      " [ 7. ]\n",
      " [ 7. ]\n",
      " ...\n",
      " [30.6]\n",
      " [23.8]\n",
      " [ 1. ]]\n"
     ]
    }
   ],
   "source": [
    "#1D to 2D\n",
    "\n",
    "target=np.reshape(target, (-1,1))\n",
    "\n",
    "print(target.shape,target)"
   ]
  },
  {
   "cell_type": "markdown",
   "metadata": {},
   "source": [
    "# Scaling"
   ]
  },
  {
   "cell_type": "code",
   "execution_count": 7,
   "metadata": {},
   "outputs": [],
   "source": [
    "from sklearn.preprocessing import MinMaxScaler\n",
    "\n",
    "scaler_data = MinMaxScaler()\n",
    "\n",
    "scaler_target = MinMaxScaler()\n",
    "\n",
    "#scaler_data.fit(data)\n",
    "#scaler_target.fit(target)\n",
    "\n",
    "#data_scaled=scaler_data.transform(data)\n",
    "#target_scaled=scaler_target.transform(target)\n",
    "\n",
    "data_scaled=scaler_data.fit_transform(data)\n",
    "target_scaled=scaler_target.fit_transform(target)"
   ]
  },
  {
   "cell_type": "code",
   "execution_count": 8,
   "metadata": {},
   "outputs": [
    {
     "name": "stdout",
     "output_type": "stream",
     "text": [
      "[[  2.  48. 236.  66.   0.   2.   0.]\n",
      " [  1.  48. 260.  51.   0.   2.   1.]\n",
      " [  1.  44. 187.  49.   1.   2.   0.]\n",
      " [  2.  42. 216.  57.   1.   2.   0.]\n",
      " [  2.  56. 156.  42.   0.   2.   0.]\n",
      " [  1.  44. 162.  57.   1.   2.   0.]\n",
      " [  1.  50. 244.  47.   0.   2.   0.]\n",
      " [  1.  48. 212.  30.   1.   2.   0.]\n",
      " [  2.  66. 202.  53.   0.   2.   1.]\n",
      " [  1.  63. 186.  46.   1.   2.   0.]]\n"
     ]
    }
   ],
   "source": [
    "print(data[:10])"
   ]
  },
  {
   "cell_type": "code",
   "execution_count": 9,
   "metadata": {},
   "outputs": [
    {
     "name": "stdout",
     "output_type": "stream",
     "text": [
      "[[1.         0.20512821 0.40045249 0.29347826 0.         1.\n",
      "  0.        ]\n",
      " [0.         0.20512821 0.45475113 0.21195652 0.         1.\n",
      "  1.        ]\n",
      " [0.         0.1025641  0.28959276 0.20108696 1.         1.\n",
      "  0.        ]\n",
      " [1.         0.05128205 0.35520362 0.24456522 1.         1.\n",
      "  0.        ]\n",
      " [1.         0.41025641 0.21945701 0.16304348 0.         1.\n",
      "  0.        ]\n",
      " [0.         0.1025641  0.23303167 0.24456522 1.         1.\n",
      "  0.        ]\n",
      " [0.         0.25641026 0.41855204 0.19021739 0.         1.\n",
      "  0.        ]\n",
      " [0.         0.20512821 0.34615385 0.09782609 1.         1.\n",
      "  0.        ]\n",
      " [1.         0.66666667 0.32352941 0.22282609 0.         1.\n",
      "  1.        ]\n",
      " [0.         0.58974359 0.28733032 0.18478261 1.         1.\n",
      "  0.        ]]\n"
     ]
    }
   ],
   "source": [
    "print(data_scaled[:10])  #resuls after normalize"
   ]
  },
  {
   "cell_type": "code",
   "execution_count": 10,
   "metadata": {},
   "outputs": [
    {
     "name": "stdout",
     "output_type": "stream",
     "text": [
      "[[ 1.1]\n",
      " [ 7. ]\n",
      " [ 7. ]\n",
      " [ 0.4]\n",
      " [ 2.2]\n",
      " [ 3. ]\n",
      " [ 4.2]\n",
      " [17.4]\n",
      " [13.4]\n",
      " [17.3]]\n",
      "[[0.01172333]\n",
      " [0.08089097]\n",
      " [0.08089097]\n",
      " [0.003517  ]\n",
      " [0.02461899]\n",
      " [0.03399766]\n",
      " [0.04806565]\n",
      " [0.2028136 ]\n",
      " [0.15592028]\n",
      " [0.20164127]]\n"
     ]
    }
   ],
   "source": [
    "print(target[:10])\n",
    "print(target_scaled[:10])"
   ]
  },
  {
   "cell_type": "markdown",
   "metadata": {},
   "source": [
    "# Why Scaling?"
   ]
  },
  {
   "cell_type": "code",
   "execution_count": 11,
   "metadata": {},
   "outputs": [
    {
     "data": {
      "image/png": "[encoded data removed]",
      "text/plain": [
       "<Figure size 432x288 with 1 Axes>"
      ]
     },
     "metadata": {
      "needs_background": "light"
     },
     "output_type": "display_data"
    }
   ],
   "source": [
    "#taking second column \"TC\"\n",
    "\n",
    "plt.hist(data[:,2],bins=100)\n",
    "\n",
    "plt.title('Original TC')\n",
    "plt.xlabel('TC Level')\n",
    "plt.ylabel('Frequency')\n",
    "\n",
    "plt.show()"
   ]
  },
  {
   "cell_type": "code",
   "execution_count": 12,
   "metadata": {},
   "outputs": [
    {
     "name": "stdout",
     "output_type": "stream",
     "text": [
      "59.0 501.0\n"
     ]
    }
   ],
   "source": [
    "print(np.min(data[:,2]),np.max(data[:,2]))"
   ]
  },
  {
   "cell_type": "code",
   "execution_count": 13,
   "metadata": {},
   "outputs": [
    {
     "data": {
      "image/png": "[encoded data removed]",
      "text/plain": [
       "<Figure size 432x288 with 1 Axes>"
      ]
     },
     "metadata": {
      "needs_background": "light"
     },
     "output_type": "display_data"
    }
   ],
   "source": [
    "plt.hist(data_scaled[:,2],bins=100)\n",
    "plt.title('Scaled TC')\n",
    "plt.xlabel('TC Level')\n",
    "plt.ylabel('Frequency')\n",
    "plt.show()"
   ]
  },
  {
   "cell_type": "markdown",
   "metadata": {},
   "source": [
    "# Other Scaling Methods"
   ]
  },
  {
   "cell_type": "markdown",
   "metadata": {},
   "source": [
    "## 1 Standard Scaling"
   ]
  },
  {
   "cell_type": "code",
   "execution_count": 14,
   "metadata": {},
   "outputs": [],
   "source": [
    "from sklearn.preprocessing import StandardScaler\n",
    "\n",
    "standard_scaler = StandardScaler()\n",
    "standard_scaled_data = standard_scaler.fit_transform(data)"
   ]
  },
  {
   "cell_type": "code",
   "execution_count": 15,
   "metadata": {},
   "outputs": [
    {
     "data": {
      "image/png": "[encoded data removed]",
      "text/plain": [
       "<Figure size 432x288 with 1 Axes>"
      ]
     },
     "metadata": {
      "needs_background": "light"
     },
     "output_type": "display_data"
    }
   ],
   "source": [
    "plt.hist(standard_scaled_data[:,2],bins=100)\n",
    "plt.title('Quantiled TC')\n",
    "plt.xlabel('TC Level')\n",
    "plt.ylabel('Frequency')\n",
    "plt.show()"
   ]
  },
  {
   "attachments": {
    "image.png": {
     "image/png": "[encoded data removed]"
    }
   },
   "cell_type": "markdown",
   "metadata": {},
   "source": [
    "This type of scaling removes mean and scale data to unit variance. It is defined by the formula\n",
    "![image.png](attachment:image.png)\n",
    "where mean is the mean of the training samples, and std is the standard deviation of the training samples. The best way to understand it is to look at it in practice. For that we use SciKit Learn and StandardScaler class:"
   ]
  },
  {
   "cell_type": "markdown",
   "metadata": {},
   "source": [
    "## Quantile Transformation\n",
    "\n",
    "As we mentioned, sometimes machine learning algorithms require that the distribution of our data is uniform or normal. We can achieve that using QuantileTransformer class from SciKit Learn. First, here is how it looks like when we transform our data to uniform distribution:"
   ]
  },
  {
   "cell_type": "code",
   "execution_count": 16,
   "metadata": {},
   "outputs": [],
   "source": [
    "from sklearn.preprocessing import QuantileTransformer\n",
    "\n",
    "qtrans = QuantileTransformer(output_distribution='normal', random_state=0)\n",
    "quantile_transformed_data = qtrans.fit_transform(data)"
   ]
  },
  {
   "cell_type": "code",
   "execution_count": 17,
   "metadata": {},
   "outputs": [
    {
     "data": {
      "image/png": "[encoded data removed]",
      "text/plain": [
       "<Figure size 432x288 with 1 Axes>"
      ]
     },
     "metadata": {
      "needs_background": "light"
     },
     "output_type": "display_data"
    }
   ],
   "source": [
    "plt.hist(quantile_transformed_data[:,2],bins=100)\n",
    "plt.show()"
   ]
  },
  {
   "cell_type": "markdown",
   "metadata": {},
   "source": [
    "# Train Test Split"
   ]
  },
  {
   "cell_type": "code",
   "execution_count": 18,
   "metadata": {},
   "outputs": [],
   "source": [
    "from sklearn.model_selection import train_test_split\n",
    "\n",
    "train_data, test_data, train_target, test_target = train_test_split(data_scaled, target_scaled,test_size=0.2)"
   ]
  },
  {
   "cell_type": "code",
   "execution_count": 19,
   "metadata": {},
   "outputs": [
    {
     "name": "stdout",
     "output_type": "stream",
     "text": [
      "[[0.         0.20512821 0.40950226 ... 1.         1.         0.        ]\n",
      " [1.         0.05128205 0.25791855 ... 1.         1.         0.        ]\n",
      " [1.         0.61538462 0.33031674 ... 0.         1.         0.        ]\n",
      " ...\n",
      " [0.         0.15384615 0.25339367 ... 1.         1.         0.        ]\n",
      " [1.         0.84615385 0.57013575 ... 0.         0.         1.        ]\n",
      " [1.         0.25641026 0.12895928 ... 1.         1.         0.        ]] (5315, 7)\n"
     ]
    }
   ],
   "source": [
    "print(train_data,train_data.shape)"
   ]
  },
  {
   "cell_type": "code",
   "execution_count": 20,
   "metadata": {},
   "outputs": [
    {
     "name": "stdout",
     "output_type": "stream",
     "text": [
      "[[0.         0.76923077 0.45701357 ... 0.         0.         0.        ]\n",
      " [1.         0.58974359 0.32352941 ... 0.         0.         1.        ]\n",
      " [1.         0.33333333 0.46606335 ... 0.         1.         0.        ]\n",
      " ...\n",
      " [0.         0.         0.52262443 ... 1.         1.         0.        ]\n",
      " [1.         0.58974359 0.44117647 ... 0.         1.         0.        ]\n",
      " [0.         0.         0.40950226 ... 0.         1.         0.        ]] (1329, 7)\n"
     ]
    }
   ],
   "source": [
    "print(test_data,test_data.shape)"
   ]
  },
  {
   "cell_type": "markdown",
   "metadata": {},
   "source": [
    "# FFNN Architecture"
   ]
  },
  {
   "cell_type": "code",
   "execution_count": 21,
   "metadata": {},
   "outputs": [
    {
     "name": "stdout",
     "output_type": "stream",
     "text": [
      "Model: \"sequential\"\n",
      "_________________________________________________________________\n",
      "Layer (type)                 Output Shape              Param #   \n",
      "=================================================================\n",
      "dense (Dense)                (None, 128)               1024      \n",
      "_________________________________________________________________\n",
      "dropout (Dropout)            (None, 128)               0         \n",
      "_________________________________________________________________\n",
      "dense_1 (Dense)              (None, 64)                8256      \n",
      "_________________________________________________________________\n",
      "dropout_1 (Dropout)          (None, 64)                0         \n",
      "_________________________________________________________________\n",
      "dense_2 (Dense)              (None, 10)                650       \n",
      "_________________________________________________________________\n",
      "dropout_2 (Dropout)          (None, 10)                0         \n",
      "_________________________________________________________________\n",
      "dense_3 (Dense)              (None, 1)                 11        \n",
      "=================================================================\n",
      "Total params: 9,941\n",
      "Trainable params: 9,941\n",
      "Non-trainable params: 0\n",
      "_________________________________________________________________\n"
     ]
    }
   ],
   "source": [
    "import keras.models as models\n",
    "import keras.layers as layers\n",
    "#import keras.optimizers as optimizers\n",
    "\n",
    "from keras.layers import Dropout\n",
    "\n",
    "import numpy as np\n",
    "\n",
    "model = models.Sequential()\n",
    "model.add(layers.Dense(128, input_dim=7, activation='relu'))\n",
    "model.add(Dropout(0.5))\n",
    "model.add(layers.Dense(64, activation='relu'))\n",
    "model.add(Dropout(0.5))\n",
    "model.add(layers.Dense(10, activation='relu'))\n",
    "model.add(Dropout(0.5))\n",
    "model.add(layers.Dense(1, activation='linear'))\n",
    "\n",
    "model.compile(optimizer='adam',loss='mse',metrics=['mae'])\n",
    "\n",
    "model.summary()"
   ]
  },
  {
   "cell_type": "code",
   "execution_count": 22,
   "metadata": {
    "scrolled": true
   },
   "outputs": [
    {
     "name": "stdout",
     "output_type": "stream",
     "text": [
      "Epoch 1/200\n",
      "167/167 [==============================] - 1s 2ms/step - loss: 0.0342 - mae: 0.1273 - val_loss: 0.0201 - val_mae: 0.0998\n",
      "Epoch 2/200\n",
      "167/167 [==============================] - 0s 1ms/step - loss: 0.0171 - mae: 0.0954 - val_loss: 0.0139 - val_mae: 0.0841\n",
      "Epoch 3/200\n",
      "167/167 [==============================] - 0s 1ms/step - loss: 0.0146 - mae: 0.0866 - val_loss: 0.0112 - val_mae: 0.0747\n",
      "Epoch 4/200\n",
      "167/167 [==============================] - 0s 1ms/step - loss: 0.0139 - mae: 0.0826 - val_loss: 0.0118 - val_mae: 0.0773\n",
      "Epoch 5/200\n",
      "167/167 [==============================] - 0s 1ms/step - loss: 0.0124 - mae: 0.0780 - val_loss: 0.0095 - val_mae: 0.0701\n",
      "Epoch 6/200\n",
      "167/167 [==============================] - 0s 1ms/step - loss: 0.0120 - mae: 0.0770 - val_loss: 0.0100 - val_mae: 0.0712\n",
      "Epoch 7/200\n",
      "167/167 [==============================] - 0s 1ms/step - loss: 0.0117 - mae: 0.0746 - val_loss: 0.0083 - val_mae: 0.0634\n",
      "Epoch 8/200\n",
      "167/167 [==============================] - 0s 1ms/step - loss: 0.0111 - mae: 0.0726 - val_loss: 0.0079 - val_mae: 0.0608\n",
      "Epoch 9/200\n",
      "167/167 [==============================] - 0s 1ms/step - loss: 0.0100 - mae: 0.0688 - val_loss: 0.0072 - val_mae: 0.0570\n",
      "Epoch 10/200\n",
      "167/167 [==============================] - 0s 1ms/step - loss: 0.0102 - mae: 0.0689 - val_loss: 0.0075 - val_mae: 0.0586\n",
      "Epoch 11/200\n",
      "167/167 [==============================] - 0s 1ms/step - loss: 0.0096 - mae: 0.0673 - val_loss: 0.0068 - val_mae: 0.0556\n",
      "Epoch 12/200\n",
      "167/167 [==============================] - 0s 1ms/step - loss: 0.0096 - mae: 0.0664 - val_loss: 0.0062 - val_mae: 0.0539\n",
      "Epoch 13/200\n",
      "167/167 [==============================] - 0s 1ms/step - loss: 0.0092 - mae: 0.0646 - val_loss: 0.0064 - val_mae: 0.0515\n",
      "Epoch 14/200\n",
      "167/167 [==============================] - 0s 1ms/step - loss: 0.0089 - mae: 0.0649 - val_loss: 0.0054 - val_mae: 0.0483\n",
      "Epoch 15/200\n",
      "167/167 [==============================] - 0s 1ms/step - loss: 0.0089 - mae: 0.0645 - val_loss: 0.0070 - val_mae: 0.0550\n",
      "Epoch 16/200\n",
      "167/167 [==============================] - 0s 1ms/step - loss: 0.0087 - mae: 0.0634 - val_loss: 0.0059 - val_mae: 0.0504\n",
      "Epoch 17/200\n",
      "167/167 [==============================] - 0s 1ms/step - loss: 0.0085 - mae: 0.0629 - val_loss: 0.0048 - val_mae: 0.0469\n",
      "Epoch 18/200\n",
      "167/167 [==============================] - 0s 1ms/step - loss: 0.0082 - mae: 0.0616 - val_loss: 0.0061 - val_mae: 0.0509\n",
      "Epoch 19/200\n",
      "167/167 [==============================] - 0s 1ms/step - loss: 0.0078 - mae: 0.0607 - val_loss: 0.0051 - val_mae: 0.0485\n",
      "Epoch 20/200\n",
      "167/167 [==============================] - 0s 1ms/step - loss: 0.0084 - mae: 0.0624 - val_loss: 0.0053 - val_mae: 0.0467\n",
      "Epoch 21/200\n",
      "167/167 [==============================] - 0s 1ms/step - loss: 0.0085 - mae: 0.0634 - val_loss: 0.0053 - val_mae: 0.0471\n",
      "Epoch 22/200\n",
      "167/167 [==============================] - 0s 1ms/step - loss: 0.0081 - mae: 0.0608 - val_loss: 0.0045 - val_mae: 0.0448\n",
      "Epoch 23/200\n",
      "167/167 [==============================] - 0s 1ms/step - loss: 0.0082 - mae: 0.0616 - val_loss: 0.0055 - val_mae: 0.0477\n",
      "Epoch 24/200\n",
      "167/167 [==============================] - 0s 1ms/step - loss: 0.0081 - mae: 0.0618 - val_loss: 0.0045 - val_mae: 0.0440\n",
      "Epoch 25/200\n",
      "167/167 [==============================] - 0s 1ms/step - loss: 0.0082 - mae: 0.0612 - val_loss: 0.0059 - val_mae: 0.0490\n",
      "Epoch 26/200\n",
      "167/167 [==============================] - 0s 1ms/step - loss: 0.0081 - mae: 0.0611 - val_loss: 0.0043 - val_mae: 0.0457\n",
      "Epoch 27/200\n",
      "167/167 [==============================] - 0s 1ms/step - loss: 0.0074 - mae: 0.0591 - val_loss: 0.0054 - val_mae: 0.0457\n",
      "Epoch 28/200\n",
      "167/167 [==============================] - 0s 1ms/step - loss: 0.0079 - mae: 0.0602 - val_loss: 0.0043 - val_mae: 0.0426\n",
      "Epoch 29/200\n",
      "167/167 [==============================] - 0s 1ms/step - loss: 0.0076 - mae: 0.0596 - val_loss: 0.0042 - val_mae: 0.0454\n",
      "Epoch 30/200\n",
      "167/167 [==============================] - 0s 1ms/step - loss: 0.0081 - mae: 0.0610 - val_loss: 0.0057 - val_mae: 0.0499\n",
      "Epoch 31/200\n",
      "167/167 [==============================] - 0s 1ms/step - loss: 0.0076 - mae: 0.0593 - val_loss: 0.0049 - val_mae: 0.0469\n",
      "Epoch 32/200\n",
      "167/167 [==============================] - 0s 1ms/step - loss: 0.0080 - mae: 0.0604 - val_loss: 0.0045 - val_mae: 0.0452\n",
      "Epoch 33/200\n",
      "167/167 [==============================] - 0s 1ms/step - loss: 0.0077 - mae: 0.0589 - val_loss: 0.0048 - val_mae: 0.0476\n",
      "Epoch 34/200\n",
      "167/167 [==============================] - 0s 1ms/step - loss: 0.0078 - mae: 0.0602 - val_loss: 0.0049 - val_mae: 0.0458\n",
      "Epoch 35/200\n",
      "167/167 [==============================] - 0s 1ms/step - loss: 0.0075 - mae: 0.0585 - val_loss: 0.0045 - val_mae: 0.0446\n",
      "Epoch 36/200\n",
      "167/167 [==============================] - 0s 1ms/step - loss: 0.0072 - mae: 0.0581 - val_loss: 0.0044 - val_mae: 0.0427\n",
      "Epoch 37/200\n",
      "167/167 [==============================] - 0s 1ms/step - loss: 0.0078 - mae: 0.0595 - val_loss: 0.0044 - val_mae: 0.0425\n",
      "Epoch 38/200\n",
      "167/167 [==============================] - 0s 1ms/step - loss: 0.0077 - mae: 0.0593 - val_loss: 0.0062 - val_mae: 0.0523\n",
      "Epoch 39/200\n",
      "167/167 [==============================] - 0s 1ms/step - loss: 0.0075 - mae: 0.0587 - val_loss: 0.0046 - val_mae: 0.0434\n",
      "Epoch 40/200\n",
      "167/167 [==============================] - 0s 1ms/step - loss: 0.0075 - mae: 0.0583 - val_loss: 0.0040 - val_mae: 0.0413\n",
      "Epoch 41/200\n",
      "167/167 [==============================] - 0s 1ms/step - loss: 0.0071 - mae: 0.0572 - val_loss: 0.0054 - val_mae: 0.0482\n",
      "Epoch 42/200\n",
      "167/167 [==============================] - 0s 1ms/step - loss: 0.0077 - mae: 0.0599 - val_loss: 0.0047 - val_mae: 0.0447\n",
      "Epoch 43/200\n",
      "167/167 [==============================] - 0s 1ms/step - loss: 0.0074 - mae: 0.0588 - val_loss: 0.0047 - val_mae: 0.0437\n",
      "Epoch 44/200\n",
      "167/167 [==============================] - 0s 1ms/step - loss: 0.0074 - mae: 0.0587 - val_loss: 0.0044 - val_mae: 0.0464\n",
      "Epoch 45/200\n",
      "167/167 [==============================] - 0s 1ms/step - loss: 0.0078 - mae: 0.0597 - val_loss: 0.0042 - val_mae: 0.0445\n",
      "Epoch 46/200\n",
      "167/167 [==============================] - 0s 1ms/step - loss: 0.0072 - mae: 0.0580 - val_loss: 0.0050 - val_mae: 0.0447\n",
      "Epoch 47/200\n",
      "167/167 [==============================] - 0s 1ms/step - loss: 0.0075 - mae: 0.0589 - val_loss: 0.0050 - val_mae: 0.0452\n",
      "Epoch 48/200\n",
      "167/167 [==============================] - 0s 1ms/step - loss: 0.0074 - mae: 0.0585 - val_loss: 0.0046 - val_mae: 0.0446\n",
      "Epoch 49/200\n",
      "167/167 [==============================] - 0s 1ms/step - loss: 0.0077 - mae: 0.0590 - val_loss: 0.0060 - val_mae: 0.0502\n",
      "Epoch 50/200\n",
      "167/167 [==============================] - 0s 1ms/step - loss: 0.0075 - mae: 0.0601 - val_loss: 0.0052 - val_mae: 0.0465\n",
      "Epoch 51/200\n",
      "167/167 [==============================] - 0s 1ms/step - loss: 0.0070 - mae: 0.0577 - val_loss: 0.0044 - val_mae: 0.0459\n",
      "Epoch 52/200\n",
      "167/167 [==============================] - 0s 1ms/step - loss: 0.0073 - mae: 0.0582 - val_loss: 0.0042 - val_mae: 0.0433\n",
      "Epoch 53/200\n",
      "167/167 [==============================] - 0s 1ms/step - loss: 0.0072 - mae: 0.0573 - val_loss: 0.0051 - val_mae: 0.0431\n",
      "Epoch 54/200\n",
      "167/167 [==============================] - 0s 1ms/step - loss: 0.0073 - mae: 0.0583 - val_loss: 0.0039 - val_mae: 0.0418\n",
      "Epoch 55/200\n",
      "167/167 [==============================] - 0s 1ms/step - loss: 0.0072 - mae: 0.0576 - val_loss: 0.0045 - val_mae: 0.0410\n",
      "Epoch 56/200\n",
      "167/167 [==============================] - 0s 1ms/step - loss: 0.0071 - mae: 0.0574 - val_loss: 0.0043 - val_mae: 0.0430\n",
      "Epoch 57/200\n",
      "167/167 [==============================] - 0s 1ms/step - loss: 0.0072 - mae: 0.0576 - val_loss: 0.0049 - val_mae: 0.0463\n",
      "Epoch 58/200\n",
      "167/167 [==============================] - 0s 1ms/step - loss: 0.0072 - mae: 0.0574 - val_loss: 0.0039 - val_mae: 0.0415\n",
      "Epoch 59/200\n",
      "167/167 [==============================] - 0s 1ms/step - loss: 0.0076 - mae: 0.0583 - val_loss: 0.0042 - val_mae: 0.0426\n",
      "Epoch 60/200\n",
      "167/167 [==============================] - 0s 1ms/step - loss: 0.0071 - mae: 0.0579 - val_loss: 0.0045 - val_mae: 0.0433\n",
      "Epoch 61/200\n",
      "167/167 [==============================] - 0s 1ms/step - loss: 0.0074 - mae: 0.0577 - val_loss: 0.0041 - val_mae: 0.0427\n",
      "Epoch 62/200\n"
     ]
    },
    {
     "name": "stdout",
     "output_type": "stream",
     "text": [
      "167/167 [==============================] - 0s 1ms/step - loss: 0.0072 - mae: 0.0576 - val_loss: 0.0043 - val_mae: 0.0420\n",
      "Epoch 63/200\n",
      "167/167 [==============================] - 0s 1ms/step - loss: 0.0070 - mae: 0.0570 - val_loss: 0.0038 - val_mae: 0.0391\n",
      "Epoch 64/200\n",
      "167/167 [==============================] - 0s 1ms/step - loss: 0.0078 - mae: 0.0587 - val_loss: 0.0040 - val_mae: 0.0414\n",
      "Epoch 65/200\n",
      "167/167 [==============================] - 0s 1ms/step - loss: 0.0071 - mae: 0.0576 - val_loss: 0.0044 - val_mae: 0.0422\n",
      "Epoch 66/200\n",
      "167/167 [==============================] - 0s 1ms/step - loss: 0.0072 - mae: 0.0579 - val_loss: 0.0047 - val_mae: 0.0450\n",
      "Epoch 67/200\n",
      "167/167 [==============================] - 0s 1ms/step - loss: 0.0071 - mae: 0.0583 - val_loss: 0.0041 - val_mae: 0.0411\n",
      "Epoch 68/200\n",
      "167/167 [==============================] - 0s 1ms/step - loss: 0.0071 - mae: 0.0582 - val_loss: 0.0055 - val_mae: 0.0470\n",
      "Epoch 69/200\n",
      "167/167 [==============================] - 0s 1ms/step - loss: 0.0069 - mae: 0.0572 - val_loss: 0.0047 - val_mae: 0.0472\n",
      "Epoch 70/200\n",
      "167/167 [==============================] - 0s 1ms/step - loss: 0.0070 - mae: 0.0570 - val_loss: 0.0045 - val_mae: 0.0431\n",
      "Epoch 71/200\n",
      "167/167 [==============================] - 0s 1ms/step - loss: 0.0068 - mae: 0.0564 - val_loss: 0.0043 - val_mae: 0.0433\n",
      "Epoch 72/200\n",
      "167/167 [==============================] - 0s 1ms/step - loss: 0.0070 - mae: 0.0575 - val_loss: 0.0050 - val_mae: 0.0443\n",
      "Epoch 73/200\n",
      "167/167 [==============================] - 0s 1ms/step - loss: 0.0071 - mae: 0.0577 - val_loss: 0.0047 - val_mae: 0.0463\n",
      "Epoch 74/200\n",
      "167/167 [==============================] - 0s 1ms/step - loss: 0.0069 - mae: 0.0565 - val_loss: 0.0047 - val_mae: 0.0441\n",
      "Epoch 75/200\n",
      "167/167 [==============================] - 0s 1ms/step - loss: 0.0073 - mae: 0.0574 - val_loss: 0.0041 - val_mae: 0.0416\n",
      "Epoch 76/200\n",
      "167/167 [==============================] - 0s 1ms/step - loss: 0.0069 - mae: 0.0570 - val_loss: 0.0041 - val_mae: 0.0410\n",
      "Epoch 77/200\n",
      "167/167 [==============================] - 0s 1ms/step - loss: 0.0074 - mae: 0.0575 - val_loss: 0.0046 - val_mae: 0.0454\n",
      "Epoch 78/200\n",
      "167/167 [==============================] - 0s 1ms/step - loss: 0.0071 - mae: 0.0574 - val_loss: 0.0044 - val_mae: 0.0442\n",
      "Epoch 79/200\n",
      "167/167 [==============================] - 0s 1ms/step - loss: 0.0072 - mae: 0.0574 - val_loss: 0.0039 - val_mae: 0.0430\n",
      "Epoch 80/200\n",
      "167/167 [==============================] - 0s 1ms/step - loss: 0.0067 - mae: 0.0562 - val_loss: 0.0040 - val_mae: 0.0430\n",
      "Epoch 81/200\n",
      "167/167 [==============================] - 0s 1ms/step - loss: 0.0069 - mae: 0.0560 - val_loss: 0.0040 - val_mae: 0.0435\n",
      "Epoch 82/200\n",
      "167/167 [==============================] - 0s 1ms/step - loss: 0.0072 - mae: 0.0572 - val_loss: 0.0040 - val_mae: 0.0420\n",
      "Epoch 83/200\n",
      "167/167 [==============================] - 0s 1ms/step - loss: 0.0066 - mae: 0.0556 - val_loss: 0.0041 - val_mae: 0.0446\n",
      "Epoch 84/200\n",
      "167/167 [==============================] - 0s 1ms/step - loss: 0.0069 - mae: 0.0562 - val_loss: 0.0044 - val_mae: 0.0462\n",
      "Epoch 85/200\n",
      "167/167 [==============================] - 0s 1ms/step - loss: 0.0072 - mae: 0.0573 - val_loss: 0.0059 - val_mae: 0.0486\n",
      "Epoch 86/200\n",
      "167/167 [==============================] - 0s 1ms/step - loss: 0.0070 - mae: 0.0569 - val_loss: 0.0042 - val_mae: 0.0415\n",
      "Epoch 87/200\n",
      "167/167 [==============================] - 0s 1ms/step - loss: 0.0069 - mae: 0.0569 - val_loss: 0.0044 - val_mae: 0.0443\n",
      "Epoch 88/200\n",
      "167/167 [==============================] - 0s 1ms/step - loss: 0.0070 - mae: 0.0564 - val_loss: 0.0039 - val_mae: 0.0425\n",
      "Epoch 89/200\n",
      "167/167 [==============================] - 0s 1ms/step - loss: 0.0070 - mae: 0.0562 - val_loss: 0.0052 - val_mae: 0.0481\n",
      "Epoch 90/200\n",
      "167/167 [==============================] - 0s 1ms/step - loss: 0.0071 - mae: 0.0570 - val_loss: 0.0047 - val_mae: 0.0432\n",
      "Epoch 91/200\n",
      "167/167 [==============================] - 0s 1ms/step - loss: 0.0072 - mae: 0.0570 - val_loss: 0.0040 - val_mae: 0.0417\n",
      "Epoch 92/200\n",
      "167/167 [==============================] - 0s 1ms/step - loss: 0.0069 - mae: 0.0565 - val_loss: 0.0042 - val_mae: 0.0422\n",
      "Epoch 93/200\n",
      "167/167 [==============================] - 0s 1ms/step - loss: 0.0068 - mae: 0.0563 - val_loss: 0.0046 - val_mae: 0.0417\n",
      "Epoch 94/200\n",
      "167/167 [==============================] - 0s 1ms/step - loss: 0.0068 - mae: 0.0564 - val_loss: 0.0043 - val_mae: 0.0435\n",
      "Epoch 95/200\n",
      "167/167 [==============================] - 0s 1ms/step - loss: 0.0072 - mae: 0.0574 - val_loss: 0.0050 - val_mae: 0.0462\n",
      "Epoch 96/200\n",
      "167/167 [==============================] - 0s 1ms/step - loss: 0.0075 - mae: 0.0582 - val_loss: 0.0045 - val_mae: 0.0416\n",
      "Epoch 97/200\n",
      "167/167 [==============================] - 0s 1ms/step - loss: 0.0072 - mae: 0.0571 - val_loss: 0.0048 - val_mae: 0.0459\n",
      "Epoch 98/200\n",
      "167/167 [==============================] - 0s 1ms/step - loss: 0.0074 - mae: 0.0582 - val_loss: 0.0047 - val_mae: 0.0459\n",
      "Epoch 99/200\n",
      "167/167 [==============================] - 0s 1ms/step - loss: 0.0066 - mae: 0.0563 - val_loss: 0.0039 - val_mae: 0.0398\n",
      "Epoch 100/200\n",
      "167/167 [==============================] - 0s 1ms/step - loss: 0.0068 - mae: 0.0560 - val_loss: 0.0044 - val_mae: 0.0408\n",
      "Epoch 101/200\n",
      "167/167 [==============================] - 0s 1ms/step - loss: 0.0066 - mae: 0.0558 - val_loss: 0.0041 - val_mae: 0.0423\n",
      "Epoch 102/200\n",
      "167/167 [==============================] - 0s 1ms/step - loss: 0.0068 - mae: 0.0559 - val_loss: 0.0037 - val_mae: 0.0403\n",
      "Epoch 103/200\n",
      "167/167 [==============================] - 0s 1ms/step - loss: 0.0072 - mae: 0.0573 - val_loss: 0.0051 - val_mae: 0.0458\n",
      "Epoch 104/200\n",
      "167/167 [==============================] - 0s 1ms/step - loss: 0.0068 - mae: 0.0557 - val_loss: 0.0046 - val_mae: 0.0449\n",
      "Epoch 105/200\n",
      "167/167 [==============================] - 0s 1ms/step - loss: 0.0066 - mae: 0.0562 - val_loss: 0.0039 - val_mae: 0.0412\n",
      "Epoch 106/200\n",
      "167/167 [==============================] - 0s 1ms/step - loss: 0.0070 - mae: 0.0563 - val_loss: 0.0043 - val_mae: 0.0441\n",
      "Epoch 107/200\n",
      "167/167 [==============================] - 0s 1ms/step - loss: 0.0072 - mae: 0.0563 - val_loss: 0.0045 - val_mae: 0.0456\n",
      "Epoch 108/200\n",
      "167/167 [==============================] - 0s 1ms/step - loss: 0.0069 - mae: 0.0569 - val_loss: 0.0043 - val_mae: 0.0451\n",
      "Epoch 109/200\n",
      "167/167 [==============================] - 0s 1ms/step - loss: 0.0070 - mae: 0.0574 - val_loss: 0.0052 - val_mae: 0.0462\n",
      "Epoch 110/200\n",
      "167/167 [==============================] - 0s 1ms/step - loss: 0.0070 - mae: 0.0562 - val_loss: 0.0051 - val_mae: 0.0462\n",
      "Epoch 111/200\n",
      "167/167 [==============================] - 0s 1ms/step - loss: 0.0073 - mae: 0.0579 - val_loss: 0.0049 - val_mae: 0.0449\n",
      "Epoch 112/200\n",
      "167/167 [==============================] - 0s 1ms/step - loss: 0.0069 - mae: 0.0560 - val_loss: 0.0045 - val_mae: 0.0444\n",
      "Epoch 113/200\n",
      "167/167 [==============================] - 0s 1ms/step - loss: 0.0066 - mae: 0.0553 - val_loss: 0.0038 - val_mae: 0.0407\n",
      "Epoch 114/200\n",
      "167/167 [==============================] - 0s 1ms/step - loss: 0.0073 - mae: 0.0572 - val_loss: 0.0047 - val_mae: 0.0451\n",
      "Epoch 115/200\n",
      "167/167 [==============================] - 0s 1ms/step - loss: 0.0068 - mae: 0.0561 - val_loss: 0.0042 - val_mae: 0.0432\n",
      "Epoch 116/200\n",
      "167/167 [==============================] - 0s 1ms/step - loss: 0.0071 - mae: 0.0571 - val_loss: 0.0042 - val_mae: 0.0421\n",
      "Epoch 117/200\n",
      "167/167 [==============================] - 0s 1ms/step - loss: 0.0067 - mae: 0.0553 - val_loss: 0.0044 - val_mae: 0.0433\n",
      "Epoch 118/200\n",
      "167/167 [==============================] - 0s 1ms/step - loss: 0.0068 - mae: 0.0556 - val_loss: 0.0043 - val_mae: 0.0434\n",
      "Epoch 119/200\n",
      "167/167 [==============================] - 0s 1ms/step - loss: 0.0068 - mae: 0.0560 - val_loss: 0.0051 - val_mae: 0.0456\n",
      "Epoch 120/200\n",
      "167/167 [==============================] - 0s 1ms/step - loss: 0.0069 - mae: 0.0561 - val_loss: 0.0045 - val_mae: 0.0434\n",
      "Epoch 121/200\n",
      "167/167 [==============================] - 0s 1ms/step - loss: 0.0074 - mae: 0.0576 - val_loss: 0.0042 - val_mae: 0.0461\n",
      "Epoch 122/200\n",
      "167/167 [==============================] - 0s 1ms/step - loss: 0.0068 - mae: 0.0560 - val_loss: 0.0043 - val_mae: 0.0447\n",
      "Epoch 123/200\n"
     ]
    },
    {
     "name": "stdout",
     "output_type": "stream",
     "text": [
      "167/167 [==============================] - 0s 1ms/step - loss: 0.0067 - mae: 0.0549 - val_loss: 0.0044 - val_mae: 0.0426\n",
      "Epoch 124/200\n",
      "167/167 [==============================] - 0s 1ms/step - loss: 0.0067 - mae: 0.0553 - val_loss: 0.0044 - val_mae: 0.0447\n",
      "Epoch 125/200\n",
      "167/167 [==============================] - 0s 1ms/step - loss: 0.0067 - mae: 0.0557 - val_loss: 0.0045 - val_mae: 0.0477\n",
      "Epoch 126/200\n",
      "167/167 [==============================] - 0s 1ms/step - loss: 0.0070 - mae: 0.0558 - val_loss: 0.0044 - val_mae: 0.0428\n",
      "Epoch 127/200\n",
      "167/167 [==============================] - 0s 1ms/step - loss: 0.0070 - mae: 0.0569 - val_loss: 0.0044 - val_mae: 0.0418\n",
      "Epoch 128/200\n",
      "167/167 [==============================] - 0s 1ms/step - loss: 0.0066 - mae: 0.0554 - val_loss: 0.0042 - val_mae: 0.0430\n",
      "Epoch 129/200\n",
      "167/167 [==============================] - 0s 1ms/step - loss: 0.0067 - mae: 0.0557 - val_loss: 0.0042 - val_mae: 0.0417\n",
      "Epoch 130/200\n",
      "167/167 [==============================] - 0s 1ms/step - loss: 0.0065 - mae: 0.0559 - val_loss: 0.0042 - val_mae: 0.0417\n",
      "Epoch 131/200\n",
      "167/167 [==============================] - 0s 1ms/step - loss: 0.0063 - mae: 0.0545 - val_loss: 0.0037 - val_mae: 0.0415\n",
      "Epoch 132/200\n",
      "167/167 [==============================] - 0s 1ms/step - loss: 0.0069 - mae: 0.0559 - val_loss: 0.0047 - val_mae: 0.0439\n",
      "Epoch 133/200\n",
      "167/167 [==============================] - 0s 1ms/step - loss: 0.0066 - mae: 0.0549 - val_loss: 0.0046 - val_mae: 0.0426\n",
      "Epoch 134/200\n",
      "167/167 [==============================] - 0s 1ms/step - loss: 0.0068 - mae: 0.0558 - val_loss: 0.0042 - val_mae: 0.0408\n",
      "Epoch 135/200\n",
      "167/167 [==============================] - 0s 1ms/step - loss: 0.0070 - mae: 0.0560 - val_loss: 0.0044 - val_mae: 0.0442\n",
      "Epoch 136/200\n",
      "167/167 [==============================] - 0s 1ms/step - loss: 0.0068 - mae: 0.0567 - val_loss: 0.0045 - val_mae: 0.0453\n",
      "Epoch 137/200\n",
      "167/167 [==============================] - 0s 1ms/step - loss: 0.0065 - mae: 0.0556 - val_loss: 0.0038 - val_mae: 0.0421\n",
      "Epoch 138/200\n",
      "167/167 [==============================] - 0s 1ms/step - loss: 0.0068 - mae: 0.0557 - val_loss: 0.0051 - val_mae: 0.0443\n",
      "Epoch 139/200\n",
      "167/167 [==============================] - 0s 1ms/step - loss: 0.0071 - mae: 0.0560 - val_loss: 0.0042 - val_mae: 0.0441\n",
      "Epoch 140/200\n",
      "167/167 [==============================] - 0s 1ms/step - loss: 0.0070 - mae: 0.0567 - val_loss: 0.0046 - val_mae: 0.0439\n",
      "Epoch 141/200\n",
      "167/167 [==============================] - 0s 1ms/step - loss: 0.0067 - mae: 0.0566 - val_loss: 0.0037 - val_mae: 0.0392\n",
      "Epoch 142/200\n",
      "167/167 [==============================] - 0s 1ms/step - loss: 0.0068 - mae: 0.0560 - val_loss: 0.0045 - val_mae: 0.0453\n",
      "Epoch 143/200\n",
      "167/167 [==============================] - 0s 1ms/step - loss: 0.0063 - mae: 0.0540 - val_loss: 0.0040 - val_mae: 0.0415\n",
      "Epoch 144/200\n",
      "167/167 [==============================] - 0s 1ms/step - loss: 0.0072 - mae: 0.0561 - val_loss: 0.0042 - val_mae: 0.0441\n",
      "Epoch 145/200\n",
      "167/167 [==============================] - 0s 1ms/step - loss: 0.0069 - mae: 0.0564 - val_loss: 0.0045 - val_mae: 0.0425\n",
      "Epoch 146/200\n",
      "167/167 [==============================] - 0s 1ms/step - loss: 0.0069 - mae: 0.0562 - val_loss: 0.0041 - val_mae: 0.0421\n",
      "Epoch 147/200\n",
      "167/167 [==============================] - 0s 1ms/step - loss: 0.0069 - mae: 0.0564 - val_loss: 0.0041 - val_mae: 0.0423\n",
      "Epoch 148/200\n",
      "167/167 [==============================] - 0s 1ms/step - loss: 0.0065 - mae: 0.0556 - val_loss: 0.0043 - val_mae: 0.0422\n",
      "Epoch 149/200\n",
      "167/167 [==============================] - 0s 1ms/step - loss: 0.0070 - mae: 0.0566 - val_loss: 0.0045 - val_mae: 0.0442\n",
      "Epoch 150/200\n",
      "167/167 [==============================] - 0s 1ms/step - loss: 0.0071 - mae: 0.0567 - val_loss: 0.0042 - val_mae: 0.0460\n",
      "Epoch 151/200\n",
      "167/167 [==============================] - 0s 1ms/step - loss: 0.0071 - mae: 0.0579 - val_loss: 0.0051 - val_mae: 0.0445\n",
      "Epoch 152/200\n",
      "167/167 [==============================] - 0s 1ms/step - loss: 0.0074 - mae: 0.0574 - val_loss: 0.0043 - val_mae: 0.0437\n",
      "Epoch 153/200\n",
      "167/167 [==============================] - 0s 2ms/step - loss: 0.0065 - mae: 0.0552 - val_loss: 0.0038 - val_mae: 0.0428\n",
      "Epoch 154/200\n",
      "167/167 [==============================] - 0s 1ms/step - loss: 0.0068 - mae: 0.0557 - val_loss: 0.0050 - val_mae: 0.0459\n",
      "Epoch 155/200\n",
      "167/167 [==============================] - 0s 1ms/step - loss: 0.0070 - mae: 0.0572 - val_loss: 0.0039 - val_mae: 0.0425\n",
      "Epoch 156/200\n",
      "167/167 [==============================] - 0s 1ms/step - loss: 0.0073 - mae: 0.0576 - val_loss: 0.0047 - val_mae: 0.0424\n",
      "Epoch 157/200\n",
      "167/167 [==============================] - 0s 1ms/step - loss: 0.0069 - mae: 0.0555 - val_loss: 0.0043 - val_mae: 0.0424\n",
      "Epoch 158/200\n",
      "167/167 [==============================] - 0s 1ms/step - loss: 0.0065 - mae: 0.0552 - val_loss: 0.0041 - val_mae: 0.0413\n",
      "Epoch 159/200\n",
      "167/167 [==============================] - 0s 1ms/step - loss: 0.0071 - mae: 0.0566 - val_loss: 0.0042 - val_mae: 0.0409\n",
      "Epoch 160/200\n",
      "167/167 [==============================] - 0s 1ms/step - loss: 0.0071 - mae: 0.0568 - val_loss: 0.0039 - val_mae: 0.0404\n",
      "Epoch 161/200\n",
      "167/167 [==============================] - 0s 1ms/step - loss: 0.0069 - mae: 0.0570 - val_loss: 0.0039 - val_mae: 0.0425\n",
      "Epoch 162/200\n",
      "167/167 [==============================] - 0s 1ms/step - loss: 0.0071 - mae: 0.0566 - val_loss: 0.0046 - val_mae: 0.0437\n",
      "Epoch 163/200\n",
      "167/167 [==============================] - 0s 1ms/step - loss: 0.0072 - mae: 0.0569 - val_loss: 0.0040 - val_mae: 0.0411\n",
      "Epoch 164/200\n",
      "167/167 [==============================] - 0s 1ms/step - loss: 0.0069 - mae: 0.0570 - val_loss: 0.0036 - val_mae: 0.0388\n",
      "Epoch 165/200\n",
      "167/167 [==============================] - 0s 1ms/step - loss: 0.0065 - mae: 0.0554 - val_loss: 0.0044 - val_mae: 0.0443\n",
      "Epoch 166/200\n",
      "167/167 [==============================] - 0s 1ms/step - loss: 0.0070 - mae: 0.0571 - val_loss: 0.0039 - val_mae: 0.0420\n",
      "Epoch 167/200\n",
      "167/167 [==============================] - 0s 1ms/step - loss: 0.0067 - mae: 0.0558 - val_loss: 0.0045 - val_mae: 0.0442\n",
      "Epoch 168/200\n",
      "167/167 [==============================] - 0s 1ms/step - loss: 0.0071 - mae: 0.0567 - val_loss: 0.0042 - val_mae: 0.0431\n",
      "Epoch 169/200\n",
      "167/167 [==============================] - 0s 1ms/step - loss: 0.0073 - mae: 0.0578 - val_loss: 0.0045 - val_mae: 0.0441\n",
      "Epoch 170/200\n",
      "167/167 [==============================] - 0s 1ms/step - loss: 0.0069 - mae: 0.0561 - val_loss: 0.0040 - val_mae: 0.0410\n",
      "Epoch 171/200\n",
      "167/167 [==============================] - 0s 1ms/step - loss: 0.0070 - mae: 0.0563 - val_loss: 0.0044 - val_mae: 0.0409\n",
      "Epoch 172/200\n",
      "167/167 [==============================] - 0s 1ms/step - loss: 0.0068 - mae: 0.0558 - val_loss: 0.0049 - val_mae: 0.0440\n",
      "Epoch 173/200\n",
      "167/167 [==============================] - 0s 1ms/step - loss: 0.0068 - mae: 0.0559 - val_loss: 0.0042 - val_mae: 0.0411\n",
      "Epoch 174/200\n",
      "167/167 [==============================] - 0s 1ms/step - loss: 0.0068 - mae: 0.0560 - val_loss: 0.0044 - val_mae: 0.0426\n",
      "Epoch 175/200\n",
      "167/167 [==============================] - 0s 1ms/step - loss: 0.0068 - mae: 0.0559 - val_loss: 0.0045 - val_mae: 0.0430\n",
      "Epoch 176/200\n",
      "167/167 [==============================] - 0s 1ms/step - loss: 0.0068 - mae: 0.0558 - val_loss: 0.0044 - val_mae: 0.0424\n",
      "Epoch 177/200\n",
      "167/167 [==============================] - 0s 1ms/step - loss: 0.0070 - mae: 0.0570 - val_loss: 0.0043 - val_mae: 0.0424\n",
      "Epoch 178/200\n",
      "167/167 [==============================] - 0s 1ms/step - loss: 0.0069 - mae: 0.0565 - val_loss: 0.0043 - val_mae: 0.0418\n",
      "Epoch 179/200\n",
      "167/167 [==============================] - 0s 1ms/step - loss: 0.0069 - mae: 0.0562 - val_loss: 0.0049 - val_mae: 0.0457\n",
      "Epoch 180/200\n",
      "167/167 [==============================] - 0s 1ms/step - loss: 0.0067 - mae: 0.0555 - val_loss: 0.0042 - val_mae: 0.0446\n",
      "Epoch 181/200\n",
      "167/167 [==============================] - 0s 1ms/step - loss: 0.0071 - mae: 0.0572 - val_loss: 0.0041 - val_mae: 0.0425\n",
      "Epoch 182/200\n",
      "167/167 [==============================] - 0s 1ms/step - loss: 0.0065 - mae: 0.0550 - val_loss: 0.0038 - val_mae: 0.0429\n",
      "Epoch 183/200\n",
      "167/167 [==============================] - 0s 1ms/step - loss: 0.0069 - mae: 0.0559 - val_loss: 0.0048 - val_mae: 0.0458\n"
     ]
    },
    {
     "name": "stdout",
     "output_type": "stream",
     "text": [
      "Epoch 184/200\n",
      "167/167 [==============================] - 0s 1ms/step - loss: 0.0068 - mae: 0.0562 - val_loss: 0.0047 - val_mae: 0.0449\n",
      "Epoch 185/200\n",
      "167/167 [==============================] - 0s 1ms/step - loss: 0.0066 - mae: 0.0552 - val_loss: 0.0041 - val_mae: 0.0422\n",
      "Epoch 186/200\n",
      "167/167 [==============================] - 0s 1ms/step - loss: 0.0068 - mae: 0.0559 - val_loss: 0.0045 - val_mae: 0.0445\n",
      "Epoch 187/200\n",
      "167/167 [==============================] - 0s 1ms/step - loss: 0.0069 - mae: 0.0564 - val_loss: 0.0044 - val_mae: 0.0437\n",
      "Epoch 188/200\n",
      "167/167 [==============================] - 0s 1ms/step - loss: 0.0067 - mae: 0.0554 - val_loss: 0.0040 - val_mae: 0.0423\n",
      "Epoch 189/200\n",
      "167/167 [==============================] - 0s 1ms/step - loss: 0.0067 - mae: 0.0548 - val_loss: 0.0043 - val_mae: 0.0436\n",
      "Epoch 190/200\n",
      "167/167 [==============================] - 0s 1ms/step - loss: 0.0072 - mae: 0.0564 - val_loss: 0.0042 - val_mae: 0.0435\n",
      "Epoch 191/200\n",
      "167/167 [==============================] - 0s 1ms/step - loss: 0.0069 - mae: 0.0561 - val_loss: 0.0043 - val_mae: 0.0411\n",
      "Epoch 192/200\n",
      "167/167 [==============================] - 0s 1ms/step - loss: 0.0066 - mae: 0.0551 - val_loss: 0.0043 - val_mae: 0.0433\n",
      "Epoch 193/200\n",
      "167/167 [==============================] - 0s 1ms/step - loss: 0.0069 - mae: 0.0567 - val_loss: 0.0044 - val_mae: 0.0465\n",
      "Epoch 194/200\n",
      "167/167 [==============================] - 0s 1ms/step - loss: 0.0069 - mae: 0.0564 - val_loss: 0.0044 - val_mae: 0.0473\n",
      "Epoch 195/200\n",
      "167/167 [==============================] - 0s 1ms/step - loss: 0.0068 - mae: 0.0560 - val_loss: 0.0045 - val_mae: 0.0428\n",
      "Epoch 196/200\n",
      "167/167 [==============================] - 0s 1ms/step - loss: 0.0068 - mae: 0.0561 - val_loss: 0.0038 - val_mae: 0.0426\n",
      "Epoch 197/200\n",
      "167/167 [==============================] - 0s 1ms/step - loss: 0.0068 - mae: 0.0568 - val_loss: 0.0040 - val_mae: 0.0427\n",
      "Epoch 198/200\n",
      "167/167 [==============================] - 0s 1ms/step - loss: 0.0070 - mae: 0.0572 - val_loss: 0.0040 - val_mae: 0.0406\n",
      "Epoch 199/200\n",
      "167/167 [==============================] - 0s 1ms/step - loss: 0.0062 - mae: 0.0550 - val_loss: 0.0038 - val_mae: 0.0401\n",
      "Epoch 200/200\n",
      "167/167 [==============================] - 0s 1ms/step - loss: 0.0068 - mae: 0.0560 - val_loss: 0.0040 - val_mae: 0.0424\n"
     ]
    }
   ],
   "source": [
    "history=model.fit(train_data,train_target,epochs=200,validation_data=(test_data,test_target))"
   ]
  },
  {
   "cell_type": "code",
   "execution_count": 23,
   "metadata": {},
   "outputs": [
    {
     "data": {
      "image/png": "[encoded data removed]",
      "text/plain": [
       "<Figure size 432x288 with 1 Axes>"
      ]
     },
     "metadata": {
      "needs_background": "light"
     },
     "output_type": "display_data"
    },
    {
     "data": {
      "text/plain": [
       "<Figure size 432x288 with 0 Axes>"
      ]
     },
     "metadata": {},
     "output_type": "display_data"
    }
   ],
   "source": [
    "plt.plot(model.history.history['loss'],label='loss')\n",
    "plt.plot(model.history.history['val_loss'],label='val_loss')\n",
    "\n",
    "plt.legend()\n",
    "plt.xlabel('# epochs')\n",
    "plt.ylabel('loss')\n",
    "plt.show()\n",
    "plt.savefig('with_Dropout.png')"
   ]
  },
  {
   "attachments": {
    "image.png": {
     "image/png": "[encoded data removed]"
    }
   },
   "cell_type": "markdown",
   "metadata": {},
   "source": [
    "#without dropout\n",
    "![image.png](attachment:image.png)"
   ]
  },
  {
   "cell_type": "markdown",
   "metadata": {},
   "source": [
    "# Problem of Overfitting"
   ]
  },
  {
   "attachments": {
    "image.png": {
     "image/png": "[encoded data removed]"
    }
   },
   "cell_type": "markdown",
   "metadata": {},
   "source": [
    "![image.png](attachment:image.png)"
   ]
  },
  {
   "cell_type": "markdown",
   "metadata": {},
   "source": [
    "## Solutions,\n",
    "\n",
    "1. Early Stopping\n",
    "2. Dropout Layers\n",
    "3. Batch Normalization\n",
    "4. Reguralization\n",
    "5. Reduce the Complexity\n",
    "6. Data Augmentation"
   ]
  },
  {
   "cell_type": "markdown",
   "metadata": {},
   "source": [
    "# R2 Score"
   ]
  },
  {
   "attachments": {
    "image.png": {
     "image/png": "[encoded data removed]"
    }
   },
   "cell_type": "markdown",
   "metadata": {},
   "source": [
    "![image.png](attachment:image.png)"
   ]
  },
  {
   "cell_type": "code",
   "execution_count": 24,
   "metadata": {},
   "outputs": [
    {
     "name": "stdout",
     "output_type": "stream",
     "text": [
      "r2 score: 0.8253720076707496\n"
     ]
    }
   ],
   "source": [
    "from sklearn.metrics import r2_score\n",
    "\n",
    "predicted_result=model.predict(test_data)\n",
    "\n",
    "r2=r2_score(test_target,predicted_result)\n",
    "print('r2 score:',r2)"
   ]
  },
  {
   "cell_type": "code",
   "execution_count": 25,
   "metadata": {},
   "outputs": [
    {
     "name": "stdout",
     "output_type": "stream",
     "text": [
      "actual: [[0.28135991 0.37162954 0.00937866 0.27080891 0.01289566 0.1137163\n",
      "  0.23446659 0.06096131 0.14302462 0.16764361]]\n",
      "predicted: [[0.33032733 0.24622966 0.05035473 0.3805138  0.04786482 0.11300534\n",
      "  0.21906036 0.07426158 0.13783419 0.19771706]]\n"
     ]
    }
   ],
   "source": [
    "print('actual:',test_target[:10].T)\n",
    "print('predicted:',predicted_result[:10].T)"
   ]
  },
  {
   "cell_type": "markdown",
   "metadata": {},
   "source": [
    "**Inverse scaling"
   ]
  },
  {
   "cell_type": "code",
   "execution_count": 26,
   "metadata": {},
   "outputs": [
    {
     "name": "stdout",
     "output_type": "stream",
     "text": [
      "actual inverse scaled: [[24.1 31.8  0.9 23.2  1.2  9.8 20.1  5.3 12.3 14.4]]\n",
      "predicted inverse scaled: [[28.276922  21.10339    4.3952584 32.557827   4.1828694  9.739356\n",
      "  18.785849   6.4345126 11.857257  16.965265 ]]\n"
     ]
    }
   ],
   "source": [
    "print('actual inverse scaled:',scaler_target.inverse_transform(test_target[:10]).T)\n",
    "print('predicted inverse scaled:',scaler_target.inverse_transform(predicted_result[:10]).T)"
   ]
  },
  {
   "cell_type": "code",
   "execution_count": 27,
   "metadata": {},
   "outputs": [
    {
     "name": "stdout",
     "output_type": "stream",
     "text": [
      "Actual Result: 7\n",
      "Predicted Result: [[11.470548]]\n"
     ]
    }
   ],
   "source": [
    "my_test_data=[1,56,156,42,0,1,0]\n",
    "my_test_data=scaler_data.transform([my_test_data])\n",
    "result=model.predict(my_test_data)\n",
    "actual=7\n",
    "predicted = scaler_target.inverse_transform(result)\n",
    "\n",
    "print('Actual Result:',actual)\n",
    "print('Predicted Result:',predicted)"
   ]
  },
  {
   "cell_type": "code",
   "execution_count": 28,
   "metadata": {},
   "outputs": [
    {
     "name": "stdout",
     "output_type": "stream",
     "text": [
      "INFO:tensorflow:Assets written to: cardio-FFNN.model\\assets\n"
     ]
    },
    {
     "data": {
      "text/plain": [
       "['scaler_target.sav']"
      ]
     },
     "execution_count": 28,
     "metadata": {},
     "output_type": "execute_result"
    }
   ],
   "source": [
    "import joblib\n",
    "\n",
    "model.save('cardio-FFNN.model')\n",
    "\n",
    "joblib.dump(scaler_data,'scaler_data.sav')\n",
    "joblib.dump(scaler_target,'scaler_target.sav')\n"
   ]
  },
  {
   "cell_type": "code",
   "execution_count": null,
   "metadata": {},
   "outputs": [],
   "source": []
  }
 ],
 "metadata": {
  "kernelspec": {
   "display_name": "Python 3",
   "language": "python",
   "name": "python3"
  },
  "language_info": {
   "codemirror_mode": {
    "name": "ipython",
    "version": 3
   },
   "file_extension": ".py",
   "mimetype": "text/x-python",
   "name": "python",
   "nbconvert_exporter": "python",
   "pygments_lexer": "ipython3",
   "version": "3.8.5"
  }
 },
 "nbformat": 4,
 "nbformat_minor": 2
}
