{
 "cells": [
  {
   "cell_type": "code",
   "execution_count": 1,
   "metadata": {},
   "outputs": [],
   "source": [
    "import numpy as np\n",
    "\n",
    "data=np.load('data.npy')\n",
    "target=np.load('target.npy')"
   ]
  },
  {
   "cell_type": "code",
   "execution_count": 2,
   "metadata": {},
   "outputs": [
    {
     "name": "stdout",
     "output_type": "stream",
     "text": [
      "(1000, 50, 1)\n",
      "(209, 50, 1)\n"
     ]
    }
   ],
   "source": [
    "#for training first 1000\n",
    "#for testing last 209\n",
    "\n",
    "\n",
    "train_data=data[:1000]\n",
    "train_target=target[:1000]\n",
    "\n",
    "test_data=data[1000:]\n",
    "test_target=target[1000:]\n",
    "\n",
    "print(train_data.shape)\n",
    "print(test_data.shape)"
   ]
  },
  {
   "cell_type": "code",
   "execution_count": 3,
   "metadata": {},
   "outputs": [
    {
     "name": "stdout",
     "output_type": "stream",
     "text": [
      "(1000, 1)\n"
     ]
    }
   ],
   "source": [
    "print(train_target.shape)"
   ]
  },
  {
   "cell_type": "code",
   "execution_count": 4,
   "metadata": {},
   "outputs": [
    {
     "name": "stdout",
     "output_type": "stream",
     "text": [
      "(209, 1)\n"
     ]
    }
   ],
   "source": [
    "print(test_target.shape)"
   ]
  },
  {
   "cell_type": "code",
   "execution_count": 5,
   "metadata": {},
   "outputs": [
    {
     "data": {
      "image/png": "[encoded data removed]",
      "text/plain": [
       "<Figure size 432x288 with 1 Axes>"
      ]
     },
     "metadata": {
      "needs_background": "light"
     },
     "output_type": "display_data"
    }
   ],
   "source": [
    "from matplotlib import pyplot as plt\n",
    "\n",
    "test_x_range=np.arange(1000,1209,1)\n",
    "#test_x_range is an array of values between 1000-1208\n",
    "\n",
    "plt.plot(train_target,'r',label='train')\n",
    "plt.plot(test_x_range,test_target,'b',label='test')\n",
    "plt.xlabel('Date')\n",
    "plt.ylabel('Open Value/$')\n",
    "plt.show()"
   ]
  },
  {
   "cell_type": "code",
   "execution_count": 6,
   "metadata": {},
   "outputs": [
    {
     "name": "stdout",
     "output_type": "stream",
     "text": [
      "Requirement already up-to-date: tensorflow in c:\\users\\udara vimukthi\\anaconda3\\lib\\site-packages (2.5.0)\n",
      "Requirement already satisfied, skipping upgrade: protobuf>=3.9.2 in c:\\users\\udara vimukthi\\anaconda3\\lib\\site-packages (from tensorflow) (3.17.3)\n",
      "Requirement already satisfied, skipping upgrade: keras-nightly~=2.5.0.dev in c:\\users\\udara vimukthi\\anaconda3\\lib\\site-packages (from tensorflow) (2.5.0.dev2021032900)\n",
      "Requirement already satisfied, skipping upgrade: wrapt~=1.12.1 in c:\\users\\udara vimukthi\\anaconda3\\lib\\site-packages (from tensorflow) (1.12.1)\n",
      "Requirement already satisfied, skipping upgrade: gast==0.4.0 in c:\\users\\udara vimukthi\\anaconda3\\lib\\site-packages (from tensorflow) (0.4.0)\n",
      "Requirement already satisfied, skipping upgrade: typing-extensions~=3.7.4 in c:\\users\\udara vimukthi\\anaconda3\\lib\\site-packages (from tensorflow) (3.7.4.3)\n",
      "Requirement already satisfied, skipping upgrade: h5py~=3.1.0 in c:\\users\\udara vimukthi\\anaconda3\\lib\\site-packages (from tensorflow) (3.1.0)\n",
      "Requirement already satisfied, skipping upgrade: numpy~=1.19.2 in c:\\users\\udara vimukthi\\anaconda3\\lib\\site-packages (from tensorflow) (1.19.5)\n",
      "Requirement already satisfied, skipping upgrade: six~=1.15.0 in c:\\users\\udara vimukthi\\anaconda3\\lib\\site-packages (from tensorflow) (1.15.0)\n",
      "Requirement already satisfied, skipping upgrade: termcolor~=1.1.0 in c:\\users\\udara vimukthi\\anaconda3\\lib\\site-packages (from tensorflow) (1.1.0)\n",
      "Requirement already satisfied, skipping upgrade: tensorboard~=2.5 in c:\\users\\udara vimukthi\\anaconda3\\lib\\site-packages (from tensorflow) (2.5.0)\n",
      "Requirement already satisfied, skipping upgrade: flatbuffers~=1.12.0 in c:\\users\\udara vimukthi\\anaconda3\\lib\\site-packages (from tensorflow) (1.12)\n",
      "Requirement already satisfied, skipping upgrade: wheel~=0.35 in c:\\users\\udara vimukthi\\anaconda3\\lib\\site-packages (from tensorflow) (0.36.2)\n",
      "Requirement already satisfied, skipping upgrade: grpcio~=1.34.0 in c:\\users\\udara vimukthi\\anaconda3\\lib\\site-packages (from tensorflow) (1.34.1)\n",
      "Requirement already satisfied, skipping upgrade: opt-einsum~=3.3.0 in c:\\users\\udara vimukthi\\anaconda3\\lib\\site-packages (from tensorflow) (3.3.0)\n",
      "Requirement already satisfied, skipping upgrade: absl-py~=0.10 in c:\\users\\udara vimukthi\\anaconda3\\lib\\site-packages (from tensorflow) (0.13.0)\n",
      "Requirement already satisfied, skipping upgrade: google-pasta~=0.2 in c:\\users\\udara vimukthi\\anaconda3\\lib\\site-packages (from tensorflow) (0.2.0)\n",
      "Requirement already satisfied, skipping upgrade: astunparse~=1.6.3 in c:\\users\\udara vimukthi\\anaconda3\\lib\\site-packages (from tensorflow) (1.6.3)\n",
      "Requirement already satisfied, skipping upgrade: tensorflow-estimator<2.6.0,>=2.5.0rc0 in c:\\users\\udara vimukthi\\anaconda3\\lib\\site-packages (from tensorflow) (2.5.0)\n",
      "Requirement already satisfied, skipping upgrade: keras-preprocessing~=1.1.2 in c:\\users\\udara vimukthi\\anaconda3\\lib\\site-packages (from tensorflow) (1.1.2)\n",
      "Requirement already satisfied, skipping upgrade: tensorboard-data-server<0.7.0,>=0.6.0 in c:\\users\\udara vimukthi\\anaconda3\\lib\\site-packages (from tensorboard~=2.5->tensorflow) (0.6.1)\n",
      "Requirement already satisfied, skipping upgrade: markdown>=2.6.8 in c:\\users\\udara vimukthi\\anaconda3\\lib\\site-packages (from tensorboard~=2.5->tensorflow) (3.3.4)\n",
      "Requirement already satisfied, skipping upgrade: requests<3,>=2.21.0 in c:\\users\\udara vimukthi\\anaconda3\\lib\\site-packages (from tensorboard~=2.5->tensorflow) (2.25.1)\n",
      "Requirement already satisfied, skipping upgrade: tensorboard-plugin-wit>=1.6.0 in c:\\users\\udara vimukthi\\anaconda3\\lib\\site-packages (from tensorboard~=2.5->tensorflow) (1.8.0)\n",
      "Requirement already satisfied, skipping upgrade: google-auth-oauthlib<0.5,>=0.4.1 in c:\\users\\udara vimukthi\\anaconda3\\lib\\site-packages (from tensorboard~=2.5->tensorflow) (0.4.4)\n",
      "Requirement already satisfied, skipping upgrade: setuptools>=41.0.0 in c:\\users\\udara vimukthi\\anaconda3\\lib\\site-packages (from tensorboard~=2.5->tensorflow) (57.0.0)\n",
      "Requirement already satisfied, skipping upgrade: werkzeug>=0.11.15 in c:\\users\\udara vimukthi\\anaconda3\\lib\\site-packages (from tensorboard~=2.5->tensorflow) (2.0.1)\n",
      "Requirement already satisfied, skipping upgrade: google-auth<2,>=1.6.3 in c:\\users\\udara vimukthi\\anaconda3\\lib\\site-packages (from tensorboard~=2.5->tensorflow) (1.32.1)\n",
      "Requirement already satisfied, skipping upgrade: certifi>=2017.4.17 in c:\\users\\udara vimukthi\\anaconda3\\lib\\site-packages (from requests<3,>=2.21.0->tensorboard~=2.5->tensorflow) (2021.5.30)\n",
      "Requirement already satisfied, skipping upgrade: idna<3,>=2.5 in c:\\users\\udara vimukthi\\anaconda3\\lib\\site-packages (from requests<3,>=2.21.0->tensorboard~=2.5->tensorflow) (2.10)\n",
      "Requirement already satisfied, skipping upgrade: chardet<5,>=3.0.2 in c:\\users\\udara vimukthi\\anaconda3\\lib\\site-packages (from requests<3,>=2.21.0->tensorboard~=2.5->tensorflow) (4.0.0)\n",
      "Requirement already satisfied, skipping upgrade: urllib3<1.27,>=1.21.1 in c:\\users\\udara vimukthi\\anaconda3\\lib\\site-packages (from requests<3,>=2.21.0->tensorboard~=2.5->tensorflow) (1.26.6)\n",
      "Requirement already satisfied, skipping upgrade: requests-oauthlib>=0.7.0 in c:\\users\\udara vimukthi\\anaconda3\\lib\\site-packages (from google-auth-oauthlib<0.5,>=0.4.1->tensorboard~=2.5->tensorflow) (1.3.0)\n",
      "Requirement already satisfied, skipping upgrade: cachetools<5.0,>=2.0.0 in c:\\users\\udara vimukthi\\anaconda3\\lib\\site-packages (from google-auth<2,>=1.6.3->tensorboard~=2.5->tensorflow) (4.2.2)\n",
      "Requirement already satisfied, skipping upgrade: rsa<5,>=3.1.4; python_version >= \"3.6\" in c:\\users\\udara vimukthi\\anaconda3\\lib\\site-packages (from google-auth<2,>=1.6.3->tensorboard~=2.5->tensorflow) (4.7.2)\n",
      "Requirement already satisfied, skipping upgrade: pyasn1-modules>=0.2.1 in c:\\users\\udara vimukthi\\anaconda3\\lib\\site-packages (from google-auth<2,>=1.6.3->tensorboard~=2.5->tensorflow) (0.2.8)\n",
      "Requirement already satisfied, skipping upgrade: oauthlib>=3.0.0 in c:\\users\\udara vimukthi\\anaconda3\\lib\\site-packages (from requests-oauthlib>=0.7.0->google-auth-oauthlib<0.5,>=0.4.1->tensorboard~=2.5->tensorflow) (3.1.1)\n",
      "Requirement already satisfied, skipping upgrade: pyasn1>=0.1.3 in c:\\users\\udara vimukthi\\anaconda3\\lib\\site-packages (from rsa<5,>=3.1.4; python_version >= \"3.6\"->google-auth<2,>=1.6.3->tensorboard~=2.5->tensorflow) (0.4.8)\n"
     ]
    }
   ],
   "source": [
    "!pip install tensorflow --upgrade --user"
   ]
  },
  {
   "cell_type": "code",
   "execution_count": 7,
   "metadata": {},
   "outputs": [
    {
     "name": "stdout",
     "output_type": "stream",
     "text": [
      "Requirement already up-to-date: keras in c:\\users\\udara vimukthi\\appdata\\roaming\\python\\python38\\site-packages (2.4.3)\n",
      "Requirement already satisfied, skipping upgrade: pyyaml in c:\\users\\udara vimukthi\\anaconda3\\lib\\site-packages (from keras) (5.3.1)\n",
      "Requirement already satisfied, skipping upgrade: numpy>=1.9.1 in c:\\users\\udara vimukthi\\anaconda3\\lib\\site-packages (from keras) (1.19.5)\n",
      "Requirement already satisfied, skipping upgrade: h5py in c:\\users\\udara vimukthi\\anaconda3\\lib\\site-packages (from keras) (3.1.0)\n",
      "Requirement already satisfied, skipping upgrade: scipy>=0.14 in c:\\users\\udara vimukthi\\anaconda3\\lib\\site-packages (from keras) (1.5.2)\n"
     ]
    }
   ],
   "source": [
    "!pip install keras --upgrade --user"
   ]
  },
  {
   "cell_type": "code",
   "execution_count": 8,
   "metadata": {},
   "outputs": [],
   "source": [
    "from tensorflow  import keras\n",
    "#from tensorflow.python.keras.utils import np_utils"
   ]
  },
  {
   "cell_type": "code",
   "execution_count": 9,
   "metadata": {},
   "outputs": [],
   "source": [
    "from keras.models import Sequential\n",
    "from keras.layers import LSTM,Dense,Dropout"
   ]
  },
  {
   "cell_type": "code",
   "execution_count": 10,
   "metadata": {},
   "outputs": [],
   "source": [
    "from keras.models import Sequential\n",
    "from keras.layers import LSTM,Dense,Dropout\n",
    "\n",
    "model=Sequential()\n",
    "\n",
    "model.add(LSTM(units=96,return_sequences=True,input_shape=(data.shape[1:])))\n",
    "model.add(Dropout(0.2))\n",
    "\n",
    "model.add(LSTM(units=96,return_sequences=True))\n",
    "model.add(Dropout(0.2))\n",
    "\n",
    "model.add(LSTM(units=96,return_sequences=True))\n",
    "model.add(Dropout(0.2))\n",
    "\n",
    "model.add(LSTM(units=96,return_sequences=False))\n",
    "model.add(Dropout(0.2))\n",
    "\n",
    "model.add(Dense(units=1,activation='linear'))\n",
    "\n",
    "model.compile(loss='mse',optimizer='adam')"
   ]
  },
  {
   "cell_type": "code",
   "execution_count": 11,
   "metadata": {},
   "outputs": [
    {
     "name": "stdout",
     "output_type": "stream",
     "text": [
      "Epoch 1/200\n",
      "29/29 [==============================] - 10s 135ms/step - loss: 0.0171 - val_loss: 0.0092\n",
      "Epoch 2/200\n",
      "29/29 [==============================] - 2s 83ms/step - loss: 0.0028 - val_loss: 0.0025\n",
      "Epoch 3/200\n",
      "29/29 [==============================] - 2s 83ms/step - loss: 0.0025 - val_loss: 0.0044\n",
      "Epoch 4/200\n",
      "29/29 [==============================] - 3s 117ms/step - loss: 0.0022 - val_loss: 0.0067\n",
      "Epoch 5/200\n",
      "29/29 [==============================] - 3s 87ms/step - loss: 0.0025 - val_loss: 0.0027\n",
      "Epoch 6/200\n",
      "29/29 [==============================] - 3s 110ms/step - loss: 0.0025 - val_loss: 0.0055\n",
      "Epoch 7/200\n",
      "29/29 [==============================] - 3s 106ms/step - loss: 0.0027 - val_loss: 0.0041\n",
      "Epoch 8/200\n",
      "29/29 [==============================] - 3s 106ms/step - loss: 0.0019 - val_loss: 0.0043\n",
      "Epoch 9/200\n",
      "29/29 [==============================] - 3s 105ms/step - loss: 0.0019 - val_loss: 0.0037\n",
      "Epoch 10/200\n",
      "29/29 [==============================] - 3s 106ms/step - loss: 0.0019 - val_loss: 0.0040\n",
      "Epoch 11/200\n",
      "29/29 [==============================] - 3s 108ms/step - loss: 0.0018 - val_loss: 0.0033\n",
      "Epoch 12/200\n",
      "29/29 [==============================] - 3s 105ms/step - loss: 0.0016 - val_loss: 5.2745e-04\n",
      "Epoch 13/200\n",
      "29/29 [==============================] - 3s 105ms/step - loss: 0.0017 - val_loss: 0.0021\n",
      "Epoch 14/200\n",
      "29/29 [==============================] - 3s 105ms/step - loss: 0.0016 - val_loss: 0.0019\n",
      "Epoch 15/200\n",
      "29/29 [==============================] - 3s 105ms/step - loss: 0.0016 - val_loss: 0.0014\n",
      "Epoch 16/200\n",
      "29/29 [==============================] - 3s 106ms/step - loss: 0.0014 - val_loss: 4.0709e-04\n",
      "Epoch 17/200\n",
      "29/29 [==============================] - 3s 106ms/step - loss: 0.0016 - val_loss: 5.6757e-04\n",
      "Epoch 18/200\n",
      "29/29 [==============================] - 3s 106ms/step - loss: 0.0015 - val_loss: 4.7198e-04\n",
      "Epoch 19/200\n",
      "29/29 [==============================] - 3s 105ms/step - loss: 0.0014 - val_loss: 6.6811e-04\n",
      "Epoch 20/200\n",
      "29/29 [==============================] - 3s 106ms/step - loss: 0.0017 - val_loss: 0.0014\n",
      "Epoch 21/200\n",
      "29/29 [==============================] - 3s 106ms/step - loss: 0.0013 - val_loss: 0.0015\n",
      "Epoch 22/200\n",
      "29/29 [==============================] - 3s 106ms/step - loss: 0.0014 - val_loss: 0.0038\n",
      "Epoch 23/200\n",
      "29/29 [==============================] - 4s 122ms/step - loss: 0.0014 - val_loss: 0.0021\n",
      "Epoch 24/200\n",
      "29/29 [==============================] - 3s 110ms/step - loss: 0.0013 - val_loss: 0.0011\n",
      "Epoch 25/200\n",
      "29/29 [==============================] - 3s 105ms/step - loss: 0.0017 - val_loss: 0.0019\n",
      "Epoch 26/200\n",
      "29/29 [==============================] - 3s 105ms/step - loss: 0.0013 - val_loss: 0.0012\n",
      "Epoch 27/200\n",
      "29/29 [==============================] - 3s 105ms/step - loss: 0.0013 - val_loss: 2.9856e-04\n",
      "Epoch 28/200\n",
      "29/29 [==============================] - 3s 105ms/step - loss: 0.0011 - val_loss: 0.0019\n",
      "Epoch 29/200\n",
      "29/29 [==============================] - 3s 105ms/step - loss: 0.0012 - val_loss: 0.0013\n",
      "Epoch 30/200\n",
      "29/29 [==============================] - 3s 105ms/step - loss: 0.0012 - val_loss: 5.3628e-04\n",
      "Epoch 31/200\n",
      "29/29 [==============================] - 3s 108ms/step - loss: 0.0013 - val_loss: 0.0010\n",
      "Epoch 32/200\n",
      "29/29 [==============================] - 3s 106ms/step - loss: 0.0013 - val_loss: 0.0015\n",
      "Epoch 33/200\n",
      "29/29 [==============================] - 3s 106ms/step - loss: 0.0011 - val_loss: 0.0014\n",
      "Epoch 34/200\n",
      "29/29 [==============================] - 3s 106ms/step - loss: 0.0011 - val_loss: 0.0018\n",
      "Epoch 35/200\n",
      "29/29 [==============================] - 3s 105ms/step - loss: 0.0013 - val_loss: 0.0030\n",
      "Epoch 36/200\n",
      "29/29 [==============================] - 3s 105ms/step - loss: 0.0012 - val_loss: 2.4015e-04\n",
      "Epoch 37/200\n",
      "29/29 [==============================] - 3s 105ms/step - loss: 0.0012 - val_loss: 3.2400e-04\n",
      "Epoch 38/200\n",
      "29/29 [==============================] - 3s 106ms/step - loss: 0.0013 - val_loss: 4.8489e-04\n",
      "Epoch 39/200\n",
      "29/29 [==============================] - 3s 106ms/step - loss: 0.0011 - val_loss: 3.3295e-04\n",
      "Epoch 40/200\n",
      "29/29 [==============================] - 3s 105ms/step - loss: 0.0011 - val_loss: 0.0020\n",
      "Epoch 41/200\n",
      "29/29 [==============================] - 3s 105ms/step - loss: 0.0013 - val_loss: 0.0019\n",
      "Epoch 42/200\n",
      "29/29 [==============================] - 3s 109ms/step - loss: 0.0010 - val_loss: 0.0011\n",
      "Epoch 43/200\n",
      "29/29 [==============================] - 3s 112ms/step - loss: 0.0010 - val_loss: 0.0014\n",
      "Epoch 44/200\n",
      "29/29 [==============================] - 3s 110ms/step - loss: 9.0444e-04 - val_loss: 5.8539e-04\n",
      "Epoch 45/200\n",
      "29/29 [==============================] - 3s 114ms/step - loss: 9.0605e-04 - val_loss: 0.0011\n",
      "Epoch 46/200\n",
      "29/29 [==============================] - 3s 111ms/step - loss: 8.9417e-04 - val_loss: 6.7284e-04\n",
      "Epoch 47/200\n",
      "29/29 [==============================] - 3s 110ms/step - loss: 0.0010 - val_loss: 0.0024\n",
      "Epoch 48/200\n",
      "29/29 [==============================] - 3s 113ms/step - loss: 9.6592e-04 - val_loss: 0.0010\n",
      "Epoch 49/200\n",
      "29/29 [==============================] - 3s 115ms/step - loss: 9.3180e-04 - val_loss: 6.2146e-04\n",
      "Epoch 50/200\n",
      "29/29 [==============================] - 3s 113ms/step - loss: 9.1519e-04 - val_loss: 4.4437e-04\n",
      "Epoch 51/200\n",
      "29/29 [==============================] - 3s 108ms/step - loss: 9.3079e-04 - val_loss: 0.0010\n",
      "Epoch 52/200\n",
      "29/29 [==============================] - 3s 110ms/step - loss: 9.0271e-04 - val_loss: 0.0023\n",
      "Epoch 53/200\n",
      "29/29 [==============================] - 3s 110ms/step - loss: 8.9675e-04 - val_loss: 2.0582e-04\n",
      "Epoch 54/200\n",
      "29/29 [==============================] - 3s 113ms/step - loss: 8.6710e-04 - val_loss: 0.0013-0\n",
      "Epoch 55/200\n",
      "29/29 [==============================] - 3s 111ms/step - loss: 8.8124e-04 - val_loss: 9.6660e-04\n",
      "Epoch 56/200\n",
      "29/29 [==============================] - 3s 120ms/step - loss: 7.9838e-04 - val_loss: 2.8250e-04\n",
      "Epoch 57/200\n",
      "29/29 [==============================] - 3s 109ms/step - loss: 8.0092e-04 - val_loss: 0.0010\n",
      "Epoch 58/200\n",
      "29/29 [==============================] - 3s 108ms/step - loss: 9.1136e-04 - val_loss: 0.0013\n",
      "Epoch 59/200\n",
      "29/29 [==============================] - 3s 107ms/step - loss: 7.6829e-04 - val_loss: 5.8765e-04\n",
      "Epoch 60/200\n",
      "29/29 [==============================] - 3s 107ms/step - loss: 7.8860e-04 - val_loss: 6.0541e-04\n",
      "Epoch 61/200\n",
      "29/29 [==============================] - 4s 125ms/step - loss: 8.0082e-04 - val_loss: 4.5533e-04\n",
      "Epoch 62/200\n",
      "29/29 [==============================] - 3s 115ms/step - loss: 9.8224e-04 - val_loss: 2.9598e-04\n",
      "Epoch 63/200\n",
      "29/29 [==============================] - 3s 109ms/step - loss: 8.0343e-04 - val_loss: 1.7366e-04\n",
      "Epoch 64/200\n",
      "29/29 [==============================] - 3s 112ms/step - loss: 7.3536e-04 - val_loss: 9.6264e-04\n",
      "Epoch 65/200\n",
      "29/29 [==============================] - 3s 117ms/step - loss: 8.7167e-04 - val_loss: 0.0011\n",
      "Epoch 66/200\n",
      "29/29 [==============================] - 3s 117ms/step - loss: 7.6163e-04 - val_loss: 8.6609e-04\n",
      "Epoch 67/200\n",
      "29/29 [==============================] - 4s 123ms/step - loss: 7.9277e-04 - val_loss: 1.9898e-04\n",
      "Epoch 68/200\n",
      "29/29 [==============================] - 3s 117ms/step - loss: 7.7209e-04 - val_loss: 4.1526e-04\n",
      "Epoch 69/200\n",
      "29/29 [==============================] - 3s 112ms/step - loss: 8.2601e-04 - val_loss: 4.3125e-04\n",
      "Epoch 70/200\n",
      "29/29 [==============================] - 4s 128ms/step - loss: 8.2224e-04 - val_loss: 0.0019\n",
      "Epoch 71/200\n",
      "29/29 [==============================] - 4s 132ms/step - loss: 8.7899e-04 - val_loss: 0.0020\n",
      "Epoch 72/200\n",
      "29/29 [==============================] - 3s 105ms/step - loss: 7.4624e-04 - val_loss: 5.1407e-04\n",
      "Epoch 73/200\n",
      "29/29 [==============================] - 3s 104ms/step - loss: 7.4997e-04 - val_loss: 7.6719e-04\n",
      "Epoch 74/200\n",
      "29/29 [==============================] - 3s 104ms/step - loss: 6.9648e-04 - val_loss: 7.0564e-04\n",
      "Epoch 75/200\n",
      "29/29 [==============================] - 3s 104ms/step - loss: 6.7958e-04 - val_loss: 9.8171e-04\n",
      "Epoch 76/200\n",
      "29/29 [==============================] - 3s 104ms/step - loss: 8.2692e-04 - val_loss: 2.9972e-04\n",
      "Epoch 77/200\n",
      "29/29 [==============================] - 3s 106ms/step - loss: 7.5495e-04 - val_loss: 8.3593e-04\n",
      "Epoch 78/200\n"
     ]
    },
    {
     "name": "stdout",
     "output_type": "stream",
     "text": [
      "29/29 [==============================] - 3s 104ms/step - loss: 6.8323e-04 - val_loss: 1.4137e-04\n",
      "Epoch 79/200\n",
      "29/29 [==============================] - 3s 109ms/step - loss: 8.5178e-04 - val_loss: 3.9089e-04\n",
      "Epoch 80/200\n",
      "29/29 [==============================] - 3s 110ms/step - loss: 9.6028e-04 - val_loss: 1.4246e-04\n",
      "Epoch 81/200\n",
      "29/29 [==============================] - 3s 103ms/step - loss: 7.1611e-04 - val_loss: 5.9876e-04\n",
      "Epoch 82/200\n",
      "29/29 [==============================] - 3s 104ms/step - loss: 6.9393e-04 - val_loss: 3.5380e-04\n",
      "Epoch 83/200\n",
      "29/29 [==============================] - 3s 103ms/step - loss: 6.8655e-04 - val_loss: 1.7964e-04\n",
      "Epoch 84/200\n",
      "29/29 [==============================] - 3s 103ms/step - loss: 6.3852e-04 - val_loss: 0.0012\n",
      "Epoch 85/200\n",
      "29/29 [==============================] - 3s 103ms/step - loss: 6.1639e-04 - val_loss: 0.0014\n",
      "Epoch 86/200\n",
      "29/29 [==============================] - 3s 103ms/step - loss: 6.7716e-04 - val_loss: 2.8768e-04\n",
      "Epoch 87/200\n",
      "29/29 [==============================] - 3s 116ms/step - loss: 6.1874e-04 - val_loss: 1.8148e-04\n",
      "Epoch 88/200\n",
      "29/29 [==============================] - 3s 104ms/step - loss: 6.4074e-04 - val_loss: 3.3534e-04\n",
      "Epoch 89/200\n",
      "29/29 [==============================] - 3s 104ms/step - loss: 7.0535e-04 - val_loss: 3.4432e-04\n",
      "Epoch 90/200\n",
      "29/29 [==============================] - 3s 103ms/step - loss: 7.9796e-04 - val_loss: 3.6039e-04\n",
      "Epoch 91/200\n",
      "29/29 [==============================] - 3s 104ms/step - loss: 6.8006e-04 - val_loss: 1.2853e-04\n",
      "Epoch 92/200\n",
      "29/29 [==============================] - 3s 103ms/step - loss: 6.0099e-04 - val_loss: 3.0755e-04\n",
      "Epoch 93/200\n",
      "29/29 [==============================] - 3s 103ms/step - loss: 6.7160e-04 - val_loss: 3.1441e-04\n",
      "Epoch 94/200\n",
      "29/29 [==============================] - 3s 104ms/step - loss: 5.9449e-04 - val_loss: 2.1640e-04\n",
      "Epoch 95/200\n",
      "29/29 [==============================] - 3s 103ms/step - loss: 5.6946e-04 - val_loss: 8.0696e-04\n",
      "Epoch 96/200\n",
      "29/29 [==============================] - 3s 103ms/step - loss: 6.7714e-04 - val_loss: 1.6015e-04\n",
      "Epoch 97/200\n",
      "29/29 [==============================] - 3s 103ms/step - loss: 5.6548e-04 - val_loss: 0.0013\n",
      "Epoch 98/200\n",
      "29/29 [==============================] - 3s 103ms/step - loss: 6.4067e-04 - val_loss: 1.0619e-04\n",
      "Epoch 99/200\n",
      "29/29 [==============================] - 3s 112ms/step - loss: 6.6108e-04 - val_loss: 4.7394e-04\n",
      "Epoch 100/200\n",
      "29/29 [==============================] - 3s 106ms/step - loss: 6.1273e-04 - val_loss: 2.3014e-04\n",
      "Epoch 101/200\n",
      "29/29 [==============================] - 3s 103ms/step - loss: 5.3727e-04 - val_loss: 1.4288e-04\n",
      "Epoch 102/200\n",
      "29/29 [==============================] - 3s 103ms/step - loss: 6.0047e-04 - val_loss: 1.2797e-04\n",
      "Epoch 103/200\n",
      "29/29 [==============================] - 3s 103ms/step - loss: 6.4828e-04 - val_loss: 8.5586e-04\n",
      "Epoch 104/200\n",
      "29/29 [==============================] - 3s 102ms/step - loss: 6.5938e-04 - val_loss: 3.2983e-04\n",
      "Epoch 105/200\n",
      "29/29 [==============================] - 3s 103ms/step - loss: 6.4480e-04 - val_loss: 3.0740e-04\n",
      "Epoch 106/200\n",
      "29/29 [==============================] - 4s 128ms/step - loss: 5.3938e-04 - val_loss: 1.8170e-04\n",
      "Epoch 107/200\n",
      "29/29 [==============================] - 4s 133ms/step - loss: 5.6120e-04 - val_loss: 5.1445e-04\n",
      "Epoch 108/200\n",
      "29/29 [==============================] - 4s 123ms/step - loss: 5.6322e-04 - val_loss: 6.5628e-04\n",
      "Epoch 109/200\n",
      "29/29 [==============================] - 4s 133ms/step - loss: 5.1137e-04 - val_loss: 9.8403e-05\n",
      "Epoch 110/200\n",
      "29/29 [==============================] - 4s 132ms/step - loss: 5.5131e-04 - val_loss: 1.1819e-04\n",
      "Epoch 111/200\n",
      "29/29 [==============================] - 4s 129ms/step - loss: 6.0089e-04 - val_loss: 3.2499e-04\n",
      "Epoch 112/200\n",
      "29/29 [==============================] - 4s 127ms/step - loss: 5.8000e-04 - val_loss: 1.1399e-04\n",
      "Epoch 113/200\n",
      "29/29 [==============================] - 4s 131ms/step - loss: 5.1320e-04 - val_loss: 1.0631e-04\n",
      "Epoch 114/200\n",
      "29/29 [==============================] - 4s 134ms/step - loss: 5.6549e-04 - val_loss: 1.7052e-04\n",
      "Epoch 115/200\n",
      "29/29 [==============================] - 4s 128ms/step - loss: 5.9270e-04 - val_loss: 5.9622e-04\n",
      "Epoch 116/200\n",
      "29/29 [==============================] - 4s 135ms/step - loss: 5.7635e-04 - val_loss: 1.5936e-04\n",
      "Epoch 117/200\n",
      "29/29 [==============================] - 4s 132ms/step - loss: 5.8604e-04 - val_loss: 0.0011\n",
      "Epoch 118/200\n",
      "29/29 [==============================] - 4s 131ms/step - loss: 7.2566e-04 - val_loss: 1.0713e-04\n",
      "Epoch 119/200\n",
      "29/29 [==============================] - 4s 127ms/step - loss: 4.9245e-04 - val_loss: 3.0204e-04\n",
      "Epoch 120/200\n",
      "29/29 [==============================] - 4s 133ms/step - loss: 5.2021e-04 - val_loss: 1.1173e-04\n",
      "Epoch 121/200\n",
      "29/29 [==============================] - 4s 127ms/step - loss: 5.7949e-04 - val_loss: 2.1341e-04\n",
      "Epoch 122/200\n",
      "29/29 [==============================] - 4s 130ms/step - loss: 5.3782e-04 - val_loss: 1.1298e-04\n",
      "Epoch 123/200\n",
      "29/29 [==============================] - 4s 131ms/step - loss: 6.5505e-04 - val_loss: 5.5866e-04\n",
      "Epoch 124/200\n",
      "29/29 [==============================] - 4s 127ms/step - loss: 5.7913e-04 - val_loss: 8.1154e-04\n",
      "Epoch 125/200\n",
      "29/29 [==============================] - 4s 126ms/step - loss: 6.9771e-04 - val_loss: 9.5456e-05\n",
      "Epoch 126/200\n",
      "29/29 [==============================] - 4s 126ms/step - loss: 6.1323e-04 - val_loss: 5.6748e-04\n",
      "Epoch 127/200\n",
      "29/29 [==============================] - 4s 126ms/step - loss: 6.3573e-04 - val_loss: 2.5223e-04\n",
      "Epoch 128/200\n",
      "29/29 [==============================] - 4s 126ms/step - loss: 5.8498e-04 - val_loss: 3.5615e-04\n",
      "Epoch 129/200\n",
      "29/29 [==============================] - 4s 127ms/step - loss: 6.3910e-04 - val_loss: 6.6392e-04\n",
      "Epoch 130/200\n",
      "29/29 [==============================] - 4s 130ms/step - loss: 5.7097e-04 - val_loss: 4.1034e-04\n",
      "Epoch 131/200\n",
      "29/29 [==============================] - 3s 117ms/step - loss: 5.3421e-04 - val_loss: 1.2371e-04\n",
      "Epoch 132/200\n",
      "29/29 [==============================] - 4s 129ms/step - loss: 5.4015e-04 - val_loss: 1.9216e-04\n",
      "Epoch 133/200\n",
      "29/29 [==============================] - 4s 146ms/step - loss: 6.8311e-04 - val_loss: 0.0010\n",
      "Epoch 134/200\n",
      "29/29 [==============================] - 3s 107ms/step - loss: 5.6272e-04 - val_loss: 2.2870e-04\n",
      "Epoch 135/200\n",
      "29/29 [==============================] - 3s 104ms/step - loss: 5.8892e-04 - val_loss: 9.7907e-05\n",
      "Epoch 136/200\n",
      "29/29 [==============================] - 3s 103ms/step - loss: 5.1929e-04 - val_loss: 3.3612e-04\n",
      "Epoch 137/200\n",
      "29/29 [==============================] - 3s 103ms/step - loss: 5.8172e-04 - val_loss: 4.8949e-04\n",
      "Epoch 138/200\n",
      "29/29 [==============================] - 3s 103ms/step - loss: 4.3075e-04 - val_loss: 2.0356e-04\n",
      "Epoch 139/200\n",
      "29/29 [==============================] - 3s 103ms/step - loss: 5.2397e-04 - val_loss: 1.3202e-04\n",
      "Epoch 140/200\n",
      "29/29 [==============================] - 3s 115ms/step - loss: 4.7339e-04 - val_loss: 1.3843e-04\n",
      "Epoch 141/200\n",
      "29/29 [==============================] - 3s 104ms/step - loss: 5.0552e-04 - val_loss: 3.7981e-04\n",
      "Epoch 142/200\n",
      "29/29 [==============================] - 4s 139ms/step - loss: 4.7921e-04 - val_loss: 1.5153e-04\n",
      "Epoch 143/200\n",
      "29/29 [==============================] - 3s 114ms/step - loss: 5.0218e-04 - val_loss: 9.1050e-05\n",
      "Epoch 144/200\n",
      "29/29 [==============================] - 3s 108ms/step - loss: 5.3822e-04 - val_loss: 5.7818e-04\n",
      "Epoch 145/200\n",
      "29/29 [==============================] - 3s 109ms/step - loss: 5.2113e-04 - val_loss: 3.5703e-04\n",
      "Epoch 146/200\n",
      "29/29 [==============================] - 4s 121ms/step - loss: 5.4507e-04 - val_loss: 1.4096e-04\n",
      "Epoch 147/200\n",
      "29/29 [==============================] - 3s 111ms/step - loss: 4.8965e-04 - val_loss: 4.5234e-04\n",
      "Epoch 148/200\n",
      "29/29 [==============================] - 3s 109ms/step - loss: 5.2090e-04 - val_loss: 2.2556e-04\n",
      "Epoch 149/200\n",
      "29/29 [==============================] - 3s 108ms/step - loss: 5.2034e-04 - val_loss: 2.4485e-04\n",
      "Epoch 150/200\n",
      "29/29 [==============================] - 3s 113ms/step - loss: 5.1095e-04 - val_loss: 1.0750e-04\n",
      "Epoch 151/200\n",
      "29/29 [==============================] - 4s 136ms/step - loss: 4.7341e-04 - val_loss: 4.3911e-04\n",
      "Epoch 152/200\n"
     ]
    },
    {
     "name": "stdout",
     "output_type": "stream",
     "text": [
      "29/29 [==============================] - 3s 121ms/step - loss: 5.2153e-04 - val_loss: 4.0160e-04\n",
      "Epoch 153/200\n",
      "29/29 [==============================] - 3s 114ms/step - loss: 4.4730e-04 - val_loss: 8.7108e-05\n",
      "Epoch 154/200\n",
      "29/29 [==============================] - 3s 108ms/step - loss: 4.0686e-04 - val_loss: 3.7754e-04\n",
      "Epoch 155/200\n",
      "29/29 [==============================] - 3s 109ms/step - loss: 4.8484e-04 - val_loss: 1.8953e-04\n",
      "Epoch 156/200\n",
      "29/29 [==============================] - 3s 108ms/step - loss: 4.9059e-04 - val_loss: 2.1040e-04\n",
      "Epoch 157/200\n",
      "29/29 [==============================] - 3s 112ms/step - loss: 5.6986e-04 - val_loss: 1.6653e-04\n",
      "Epoch 158/200\n",
      "29/29 [==============================] - 4s 138ms/step - loss: 4.5593e-04 - val_loss: 0.0011\n",
      "Epoch 159/200\n",
      "29/29 [==============================] - 4s 130ms/step - loss: 6.4388e-04 - val_loss: 9.4711e-04\n",
      "Epoch 160/200\n",
      "29/29 [==============================] - 4s 144ms/step - loss: 7.0369e-04 - val_loss: 8.5189e-05\n",
      "Epoch 161/200\n",
      "29/29 [==============================] - 4s 125ms/step - loss: 4.5772e-04 - val_loss: 1.2238e-04\n",
      "Epoch 162/200\n",
      "29/29 [==============================] - 4s 125ms/step - loss: 4.3612e-04 - val_loss: 1.3685e-04\n",
      "Epoch 163/200\n",
      "29/29 [==============================] - 4s 126ms/step - loss: 4.2703e-04 - val_loss: 1.2030e-04\n",
      "Epoch 164/200\n",
      "29/29 [==============================] - 4s 135ms/step - loss: 4.3528e-04 - val_loss: 5.4089e-04\n",
      "Epoch 165/200\n",
      "29/29 [==============================] - 3s 118ms/step - loss: 4.2903e-04 - val_loss: 7.1945e-04\n",
      "Epoch 166/200\n",
      "29/29 [==============================] - 3s 104ms/step - loss: 5.5160e-04 - val_loss: 1.1117e-04\n",
      "Epoch 167/200\n",
      "29/29 [==============================] - 3s 104ms/step - loss: 4.6758e-04 - val_loss: 8.2419e-05\n",
      "Epoch 168/200\n",
      "29/29 [==============================] - 3s 113ms/step - loss: 6.2128e-04 - val_loss: 1.2566e-04\n",
      "Epoch 169/200\n",
      "29/29 [==============================] - 3s 105ms/step - loss: 4.5817e-04 - val_loss: 5.6738e-04\n",
      "Epoch 170/200\n",
      "29/29 [==============================] - 3s 118ms/step - loss: 5.0896e-04 - val_loss: 1.2484e-04\n",
      "Epoch 171/200\n",
      "29/29 [==============================] - 3s 112ms/step - loss: 4.7832e-04 - val_loss: 1.1737e-04\n",
      "Epoch 172/200\n",
      "29/29 [==============================] - 3s 109ms/step - loss: 4.6015e-04 - val_loss: 5.0428e-04\n",
      "Epoch 173/200\n",
      "29/29 [==============================] - 3s 107ms/step - loss: 4.2564e-04 - val_loss: 4.0253e-04\n",
      "Epoch 174/200\n",
      "29/29 [==============================] - 3s 108ms/step - loss: 4.3126e-04 - val_loss: 1.6168e-04\n",
      "Epoch 175/200\n",
      "29/29 [==============================] - 3s 112ms/step - loss: 4.7838e-04 - val_loss: 1.1499e-04\n",
      "Epoch 176/200\n",
      "29/29 [==============================] - 3s 108ms/step - loss: 4.5630e-04 - val_loss: 8.1496e-04\n",
      "Epoch 177/200\n",
      "29/29 [==============================] - 3s 110ms/step - loss: 4.7025e-04 - val_loss: 2.3241e-04\n",
      "Epoch 178/200\n",
      "29/29 [==============================] - 3s 110ms/step - loss: 5.0247e-04 - val_loss: 9.1922e-05\n",
      "Epoch 179/200\n",
      "29/29 [==============================] - 3s 109ms/step - loss: 4.5374e-04 - val_loss: 2.8700e-04\n",
      "Epoch 180/200\n",
      "29/29 [==============================] - 3s 109ms/step - loss: 5.0596e-04 - val_loss: 3.0306e-04\n",
      "Epoch 181/200\n",
      "29/29 [==============================] - 3s 108ms/step - loss: 4.9950e-04 - val_loss: 2.8708e-04\n",
      "Epoch 182/200\n",
      "29/29 [==============================] - 3s 110ms/step - loss: 4.6676e-04 - val_loss: 1.8784e-04\n",
      "Epoch 183/200\n",
      "29/29 [==============================] - 3s 110ms/step - loss: 4.9437e-04 - val_loss: 9.8151e-05\n",
      "Epoch 184/200\n",
      "29/29 [==============================] - 3s 109ms/step - loss: 4.7000e-04 - val_loss: 8.9482e-04\n",
      "Epoch 185/200\n",
      "29/29 [==============================] - 3s 109ms/step - loss: 5.4048e-04 - val_loss: 1.8262e-04\n",
      "Epoch 186/200\n",
      "29/29 [==============================] - 3s 110ms/step - loss: 4.8555e-04 - val_loss: 4.2326e-04\n",
      "Epoch 187/200\n",
      "29/29 [==============================] - 3s 120ms/step - loss: 4.0482e-04 - val_loss: 1.1751e-04\n",
      "Epoch 188/200\n",
      "29/29 [==============================] - 3s 114ms/step - loss: 4.3953e-04 - val_loss: 8.2449e-05\n",
      "Epoch 189/200\n",
      "29/29 [==============================] - 3s 108ms/step - loss: 4.3143e-04 - val_loss: 1.0728e-04\n",
      "Epoch 190/200\n",
      "29/29 [==============================] - 3s 110ms/step - loss: 5.2702e-04 - val_loss: 2.1978e-04\n",
      "Epoch 191/200\n",
      "29/29 [==============================] - 3s 109ms/step - loss: 4.6659e-04 - val_loss: 6.0425e-04\n",
      "Epoch 192/200\n",
      "29/29 [==============================] - 3s 109ms/step - loss: 4.4098e-04 - val_loss: 9.5426e-04\n",
      "Epoch 193/200\n",
      "29/29 [==============================] - 3s 109ms/step - loss: 5.2976e-04 - val_loss: 4.9876e-04\n",
      "Epoch 194/200\n",
      "29/29 [==============================] - 3s 112ms/step - loss: 5.2977e-04 - val_loss: 1.0432e-04\n",
      "Epoch 195/200\n",
      "29/29 [==============================] - 3s 109ms/step - loss: 4.4379e-04 - val_loss: 6.7128e-04\n",
      "Epoch 196/200\n",
      "29/29 [==============================] - 3s 110ms/step - loss: 5.1011e-04 - val_loss: 8.6491e-05\n",
      "Epoch 197/200\n",
      "29/29 [==============================] - 3s 108ms/step - loss: 4.7489e-04 - val_loss: 5.3851e-04\n",
      "Epoch 198/200\n",
      "29/29 [==============================] - 3s 110ms/step - loss: 5.4218e-04 - val_loss: 0.0013\n",
      "Epoch 199/200\n",
      "29/29 [==============================] - 3s 110ms/step - loss: 5.3936e-04 - val_loss: 5.6890e-04\n",
      "Epoch 200/200\n",
      "29/29 [==============================] - 3s 110ms/step - loss: 5.0127e-04 - val_loss: 8.3083e-05\n"
     ]
    }
   ],
   "source": [
    "history=model.fit(train_data,train_target,epochs=200,validation_split=0.1)"
   ]
  },
  {
   "cell_type": "code",
   "execution_count": 12,
   "metadata": {},
   "outputs": [
    {
     "data": {
      "image/png": "[encoded data removed]",
      "text/plain": [
       "<Figure size 432x288 with 1 Axes>"
      ]
     },
     "metadata": {
      "needs_background": "light"
     },
     "output_type": "display_data"
    }
   ],
   "source": [
    "plt.plot(history.history['loss'],'r',label='train loss')\n",
    "plt.plot(history.history['val_loss'],'g',label='val loss')\n",
    "plt.xlabel('# epoch')\n",
    "plt.ylabel('loss')\n",
    "plt.legend()\n",
    "plt.show()"
   ]
  },
  {
   "cell_type": "code",
   "execution_count": 13,
   "metadata": {},
   "outputs": [
    {
     "name": "stdout",
     "output_type": "stream",
     "text": [
      "r2 score: 0.9503084218478335\n"
     ]
    }
   ],
   "source": [
    "result=model.predict(test_data)\n",
    "\n",
    "from sklearn.metrics import r2_score\n",
    "\n",
    "r2=r2_score(test_target,result)\n",
    "print('r2 score:',r2)"
   ]
  },
  {
   "cell_type": "code",
   "execution_count": 14,
   "metadata": {},
   "outputs": [
    {
     "data": {
      "image/png": "[encoded data removed]",
      "text/plain": [
       "<Figure size 432x288 with 1 Axes>"
      ]
     },
     "metadata": {
      "needs_background": "light"
     },
     "output_type": "display_data"
    }
   ],
   "source": [
    "test_x_range=np.arange(1000,1209,1)\n",
    "#test_x_range is an array of values between 1000-1208\n",
    "\n",
    "plt.plot(train_target,'r',label='train')\n",
    "plt.plot(test_x_range,test_target,'b',label='test')\n",
    "plt.plot(test_x_range,result,'g',label='predicted')\n",
    "\n",
    "plt.xlabel('Date')\n",
    "plt.ylabel('Open Value/$')\n",
    "plt.legend()\n",
    "plt.show()"
   ]
  },
  {
   "cell_type": "code",
   "execution_count": 15,
   "metadata": {},
   "outputs": [
    {
     "data": {
      "image/png": "[encoded data removed]",
      "text/plain": [
       "<Figure size 432x288 with 1 Axes>"
      ]
     },
     "metadata": {
      "needs_background": "light"
     },
     "output_type": "display_data"
    }
   ],
   "source": [
    "plt.plot(test_target,'b',label='test')\n",
    "plt.plot(result,'g',label='predicted')\n",
    "\n",
    "plt.xlabel('Date')\n",
    "plt.ylabel('Open Value/$')\n",
    "plt.legend()\n",
    "plt.show()"
   ]
  },
  {
   "cell_type": "code",
   "execution_count": null,
   "metadata": {},
   "outputs": [],
   "source": []
  }
 ],
 "metadata": {
  "kernelspec": {
   "display_name": "Python 3",
   "language": "python",
   "name": "python3"
  },
  "language_info": {
   "codemirror_mode": {
    "name": "ipython",
    "version": 3
   },
   "file_extension": ".py",
   "mimetype": "text/x-python",
   "name": "python",
   "nbconvert_exporter": "python",
   "pygments_lexer": "ipython3",
   "version": "3.8.5"
  }
 },
 "nbformat": 4,
 "nbformat_minor": 2
}
