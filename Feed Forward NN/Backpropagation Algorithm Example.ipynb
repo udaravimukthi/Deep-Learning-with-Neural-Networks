{
 "cells": [
  {
   "cell_type": "markdown",
   "metadata": {},
   "source": [
    "Sample Values"
   ]
  },
  {
   "cell_type": "code",
   "execution_count": 3,
   "metadata": {},
   "outputs": [],
   "source": [
    "w12=0.01\n",
    "w13=0.03\n",
    "w24=-0.03\n",
    "w34=0.06\n",
    "b2=0.5\n",
    "b3=-0.1\n",
    "b4=0.05\n",
    "\n",
    "#X(Input)=0.6(60Kg)\n",
    "#Y(Output Actual)= 0.16(160cm)"
   ]
  },
  {
   "cell_type": "markdown",
   "metadata": {},
   "source": [
    "Hidden Layer"
   ]
  },
  {
   "cell_type": "code",
   "execution_count": null,
   "metadata": {},
   "outputs": [],
   "source": [
    "Y2=F(W12.X + b2)\n",
    "Y3=F(W13.X + b3)\n",
    "\n",
    "#Output layer\n",
    "\n",
    "Y=F(W24.Y2+W34.Y3 + b4)\n",
    "\n",
    "#Error,\n",
    "\n",
    "E= (Y_actual-Y_predicted)^2\n",
    "E= (Y_actual-Y)^2\n",
    "\n",
    "\n",
    "#Assuming Linear Activation Function\n",
    "\n",
    "Y2=W12.X + b2= 0.001*0.6 + 0.5 = 0.506\n",
    "Y3= W13.X + b3 = 0.02*0.6 - 0.1 =-0.088\n",
    "\n",
    "Y= W14.Y2+W34.Y3 + b4 = 0.0296\n",
    "\n",
    "E= (0.16 - 0.0296)^2 = 0.017\n",
    "\n",
    "\n",
    "#calculate Derivatives\n",
    "\n",
    "dE/db4 = dE/dY * dY/b4\n",
    "dE/db4 = [2*(Y_actual-Y)*-1]* [1] = -0.2608\n",
    "\n",
    "dE/dW24 = dE/dY * dY/W24\n",
    "dE/dW24 = [2*(Y_actual-Y)*-1]* [Y2] = -0.1319\n",
    "\n",
    "dE/dW34 = dE/dY* dY/W34\n",
    "dE/dW34 = [2*(Y_actual-Y)*-1]* [Y3] = 0.0230\n",
    "\n",
    "dE/dW12 = dE/dY*dY/dY2*dY2/dW12\n",
    "dE/dW12 = [2*(Y_actual-Y)*-1]* [W24]*[X] = 0.0047"
   ]
  },
  {
   "cell_type": "code",
   "execution_count": null,
   "metadata": {},
   "outputs": [],
   "source": []
  }
 ],
 "metadata": {
  "kernelspec": {
   "display_name": "Python 3",
   "language": "python",
   "name": "python3"
  },
  "language_info": {
   "codemirror_mode": {
    "name": "ipython",
    "version": 3
   },
   "file_extension": ".py",
   "mimetype": "text/x-python",
   "name": "python",
   "nbconvert_exporter": "python",
   "pygments_lexer": "ipython3",
   "version": "3.8.5"
  }
 },
 "nbformat": 4,
 "nbformat_minor": 4
}
