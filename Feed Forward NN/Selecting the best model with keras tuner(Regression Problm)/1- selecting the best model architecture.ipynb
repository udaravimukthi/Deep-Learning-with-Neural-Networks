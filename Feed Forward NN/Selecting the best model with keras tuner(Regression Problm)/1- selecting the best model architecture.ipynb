{
 "cells": [
  {
   "cell_type": "markdown",
   "metadata": {},
   "source": [
    "# Installation\n",
    "\n",
    "pip install -U keras-tuner"
   ]
  },
  {
   "cell_type": "markdown",
   "metadata": {},
   "source": [
    "### Optional (Only if errors appear)\n",
    "\n",
    "1. pip install tensorflow --upgrade --user\n",
    "2. pip install keras --upgrade --user"
   ]
  },
  {
   "cell_type": "code",
   "execution_count": 1,
   "metadata": {},
   "outputs": [
    {
     "name": "stdout",
     "output_type": "stream",
     "text": [
      "Collecting keras-tuner\n",
      "  Downloading keras_tuner-1.0.3-py3-none-any.whl (96 kB)\n",
      "Requirement already satisfied, skipping upgrade: ipython in c:\\users\\udara vimukthi\\anaconda3\\lib\\site-packages (from keras-tuner) (7.19.0)\n",
      "Requirement already satisfied, skipping upgrade: numpy in c:\\users\\udara vimukthi\\anaconda3\\lib\\site-packages (from keras-tuner) (1.19.5)\n",
      "Collecting kt-legacy\n",
      "  Downloading kt-legacy-1.0.3.tar.gz (5.8 kB)\n",
      "Requirement already satisfied, skipping upgrade: requests in c:\\users\\udara vimukthi\\anaconda3\\lib\\site-packages (from keras-tuner) (2.25.1)\n",
      "Requirement already satisfied, skipping upgrade: tensorboard in c:\\users\\udara vimukthi\\anaconda3\\lib\\site-packages (from keras-tuner) (2.5.0)\n",
      "Requirement already satisfied, skipping upgrade: scipy in c:\\users\\udara vimukthi\\anaconda3\\lib\\site-packages (from keras-tuner) (1.5.2)\n",
      "Requirement already satisfied, skipping upgrade: packaging in c:\\users\\udara vimukthi\\anaconda3\\lib\\site-packages (from keras-tuner) (20.4)\n",
      "Requirement already satisfied, skipping upgrade: jedi>=0.10 in c:\\users\\udara vimukthi\\anaconda3\\lib\\site-packages (from ipython->keras-tuner) (0.17.1)\n",
      "Requirement already satisfied, skipping upgrade: decorator in c:\\users\\udara vimukthi\\anaconda3\\lib\\site-packages (from ipython->keras-tuner) (4.4.2)\n",
      "Requirement already satisfied, skipping upgrade: pygments in c:\\users\\udara vimukthi\\anaconda3\\lib\\site-packages (from ipython->keras-tuner) (2.7.2)\n",
      "Requirement already satisfied, skipping upgrade: setuptools>=18.5 in c:\\users\\udara vimukthi\\anaconda3\\lib\\site-packages (from ipython->keras-tuner) (57.0.0)\n",
      "Requirement already satisfied, skipping upgrade: prompt-toolkit!=3.0.0,!=3.0.1,<3.1.0,>=2.0.0 in c:\\users\\udara vimukthi\\anaconda3\\lib\\site-packages (from ipython->keras-tuner) (3.0.8)\n",
      "Requirement already satisfied, skipping upgrade: pickleshare in c:\\users\\udara vimukthi\\anaconda3\\lib\\site-packages (from ipython->keras-tuner) (0.7.5)\n",
      "Requirement already satisfied, skipping upgrade: backcall in c:\\users\\udara vimukthi\\anaconda3\\lib\\site-packages (from ipython->keras-tuner) (0.2.0)\n",
      "Requirement already satisfied, skipping upgrade: traitlets>=4.2 in c:\\users\\udara vimukthi\\anaconda3\\lib\\site-packages (from ipython->keras-tuner) (5.0.5)\n",
      "Requirement already satisfied, skipping upgrade: colorama; sys_platform == \"win32\" in c:\\users\\udara vimukthi\\anaconda3\\lib\\site-packages (from ipython->keras-tuner) (0.4.4)\n",
      "Requirement already satisfied, skipping upgrade: urllib3<1.27,>=1.21.1 in c:\\users\\udara vimukthi\\anaconda3\\lib\\site-packages (from requests->keras-tuner) (1.26.6)\n",
      "Requirement already satisfied, skipping upgrade: idna<3,>=2.5 in c:\\users\\udara vimukthi\\anaconda3\\lib\\site-packages (from requests->keras-tuner) (2.10)\n",
      "Requirement already satisfied, skipping upgrade: certifi>=2017.4.17 in c:\\users\\udara vimukthi\\anaconda3\\lib\\site-packages (from requests->keras-tuner) (2021.5.30)\n",
      "Requirement already satisfied, skipping upgrade: chardet<5,>=3.0.2 in c:\\users\\udara vimukthi\\anaconda3\\lib\\site-packages (from requests->keras-tuner) (4.0.0)\n",
      "Requirement already satisfied, skipping upgrade: wheel>=0.26; python_version >= \"3\" in c:\\users\\udara vimukthi\\anaconda3\\lib\\site-packages (from tensorboard->keras-tuner) (0.36.2)\n",
      "Requirement already satisfied, skipping upgrade: werkzeug>=0.11.15 in c:\\users\\udara vimukthi\\anaconda3\\lib\\site-packages (from tensorboard->keras-tuner) (2.0.1)\n",
      "Requirement already satisfied, skipping upgrade: absl-py>=0.4 in c:\\users\\udara vimukthi\\anaconda3\\lib\\site-packages (from tensorboard->keras-tuner) (0.13.0)\n",
      "Requirement already satisfied, skipping upgrade: tensorboard-data-server<0.7.0,>=0.6.0 in c:\\users\\udara vimukthi\\anaconda3\\lib\\site-packages (from tensorboard->keras-tuner) (0.6.1)\n",
      "Requirement already satisfied, skipping upgrade: protobuf>=3.6.0 in c:\\users\\udara vimukthi\\anaconda3\\lib\\site-packages (from tensorboard->keras-tuner) (3.17.3)\n",
      "Requirement already satisfied, skipping upgrade: markdown>=2.6.8 in c:\\users\\udara vimukthi\\anaconda3\\lib\\site-packages (from tensorboard->keras-tuner) (3.3.4)\n",
      "Requirement already satisfied, skipping upgrade: google-auth<2,>=1.6.3 in c:\\users\\udara vimukthi\\anaconda3\\lib\\site-packages (from tensorboard->keras-tuner) (1.32.1)\n",
      "Requirement already satisfied, skipping upgrade: google-auth-oauthlib<0.5,>=0.4.1 in c:\\users\\udara vimukthi\\anaconda3\\lib\\site-packages (from tensorboard->keras-tuner) (0.4.4)\n",
      "Requirement already satisfied, skipping upgrade: grpcio>=1.24.3 in c:\\users\\udara vimukthi\\anaconda3\\lib\\site-packages (from tensorboard->keras-tuner) (1.34.1)\n",
      "Requirement already satisfied, skipping upgrade: tensorboard-plugin-wit>=1.6.0 in c:\\users\\udara vimukthi\\anaconda3\\lib\\site-packages (from tensorboard->keras-tuner) (1.8.0)\n",
      "Requirement already satisfied, skipping upgrade: six in c:\\users\\udara vimukthi\\anaconda3\\lib\\site-packages (from packaging->keras-tuner) (1.15.0)\n",
      "Requirement already satisfied, skipping upgrade: pyparsing>=2.0.2 in c:\\users\\udara vimukthi\\anaconda3\\lib\\site-packages (from packaging->keras-tuner) (2.4.7)\n",
      "Requirement already satisfied, skipping upgrade: parso<0.8.0,>=0.7.0 in c:\\users\\udara vimukthi\\anaconda3\\lib\\site-packages (from jedi>=0.10->ipython->keras-tuner) (0.7.0)\n",
      "Requirement already satisfied, skipping upgrade: wcwidth in c:\\users\\udara vimukthi\\anaconda3\\lib\\site-packages (from prompt-toolkit!=3.0.0,!=3.0.1,<3.1.0,>=2.0.0->ipython->keras-tuner) (0.2.5)\n",
      "Requirement already satisfied, skipping upgrade: ipython-genutils in c:\\users\\udara vimukthi\\anaconda3\\lib\\site-packages (from traitlets>=4.2->ipython->keras-tuner) (0.2.0)\n",
      "Requirement already satisfied, skipping upgrade: rsa<5,>=3.1.4; python_version >= \"3.6\" in c:\\users\\udara vimukthi\\anaconda3\\lib\\site-packages (from google-auth<2,>=1.6.3->tensorboard->keras-tuner) (4.7.2)\n",
      "Requirement already satisfied, skipping upgrade: cachetools<5.0,>=2.0.0 in c:\\users\\udara vimukthi\\anaconda3\\lib\\site-packages (from google-auth<2,>=1.6.3->tensorboard->keras-tuner) (4.2.2)\n",
      "Requirement already satisfied, skipping upgrade: pyasn1-modules>=0.2.1 in c:\\users\\udara vimukthi\\anaconda3\\lib\\site-packages (from google-auth<2,>=1.6.3->tensorboard->keras-tuner) (0.2.8)\n",
      "Requirement already satisfied, skipping upgrade: requests-oauthlib>=0.7.0 in c:\\users\\udara vimukthi\\anaconda3\\lib\\site-packages (from google-auth-oauthlib<0.5,>=0.4.1->tensorboard->keras-tuner) (1.3.0)\n",
      "Requirement already satisfied, skipping upgrade: pyasn1>=0.1.3 in c:\\users\\udara vimukthi\\anaconda3\\lib\\site-packages (from rsa<5,>=3.1.4; python_version >= \"3.6\"->google-auth<2,>=1.6.3->tensorboard->keras-tuner) (0.4.8)\n",
      "Requirement already satisfied, skipping upgrade: oauthlib>=3.0.0 in c:\\users\\udara vimukthi\\anaconda3\\lib\\site-packages (from requests-oauthlib>=0.7.0->google-auth-oauthlib<0.5,>=0.4.1->tensorboard->keras-tuner) (3.1.1)\n",
      "Building wheels for collected packages: kt-legacy\n",
      "  Building wheel for kt-legacy (setup.py): started\n",
      "  Building wheel for kt-legacy (setup.py): finished with status 'done'\n",
      "  Created wheel for kt-legacy: filename=kt_legacy-1.0.3-py3-none-any.whl size=9568 sha256=5a17134dee552b213ec92561c6809d363829eadf422e4075364a0cf8b88b2aca\n",
      "  Stored in directory: c:\\users\\udara vimukthi\\appdata\\local\\pip\\cache\\wheels\\f2\\2e\\6b\\ce6f26f303aa955673b067602e7e388625406cc84db29f257b\n",
      "Successfully built kt-legacy\n",
      "Installing collected packages: kt-legacy, keras-tuner\n",
      "Successfully installed keras-tuner-1.0.3 kt-legacy-1.0.3\n"
     ]
    }
   ],
   "source": [
    "#install keras tuner\n",
    "\n",
    "!pip install -U keras-tuner"
   ]
  },
  {
   "cell_type": "code",
   "execution_count": 2,
   "metadata": {},
   "outputs": [
    {
     "name": "stdout",
     "output_type": "stream",
     "text": [
      "Requirement already up-to-date: tensorflow in c:\\users\\udara vimukthi\\anaconda3\\lib\\site-packages (2.5.0)\n",
      "Requirement already satisfied, skipping upgrade: wheel~=0.35 in c:\\users\\udara vimukthi\\anaconda3\\lib\\site-packages (from tensorflow) (0.36.2)\n",
      "Requirement already satisfied, skipping upgrade: wrapt~=1.12.1 in c:\\users\\udara vimukthi\\anaconda3\\lib\\site-packages (from tensorflow) (1.12.1)\n",
      "Requirement already satisfied, skipping upgrade: absl-py~=0.10 in c:\\users\\udara vimukthi\\anaconda3\\lib\\site-packages (from tensorflow) (0.13.0)\n",
      "Requirement already satisfied, skipping upgrade: tensorflow-estimator<2.6.0,>=2.5.0rc0 in c:\\users\\udara vimukthi\\anaconda3\\lib\\site-packages (from tensorflow) (2.5.0)\n",
      "Requirement already satisfied, skipping upgrade: opt-einsum~=3.3.0 in c:\\users\\udara vimukthi\\anaconda3\\lib\\site-packages (from tensorflow) (3.3.0)\n",
      "Requirement already satisfied, skipping upgrade: gast==0.4.0 in c:\\users\\udara vimukthi\\anaconda3\\lib\\site-packages (from tensorflow) (0.4.0)\n",
      "Requirement already satisfied, skipping upgrade: six~=1.15.0 in c:\\users\\udara vimukthi\\anaconda3\\lib\\site-packages (from tensorflow) (1.15.0)\n",
      "Requirement already satisfied, skipping upgrade: termcolor~=1.1.0 in c:\\users\\udara vimukthi\\anaconda3\\lib\\site-packages (from tensorflow) (1.1.0)\n",
      "Requirement already satisfied, skipping upgrade: keras-preprocessing~=1.1.2 in c:\\users\\udara vimukthi\\anaconda3\\lib\\site-packages (from tensorflow) (1.1.2)\n",
      "Requirement already satisfied, skipping upgrade: keras-nightly~=2.5.0.dev in c:\\users\\udara vimukthi\\anaconda3\\lib\\site-packages (from tensorflow) (2.5.0.dev2021032900)\n",
      "Requirement already satisfied, skipping upgrade: numpy~=1.19.2 in c:\\users\\udara vimukthi\\anaconda3\\lib\\site-packages (from tensorflow) (1.19.5)\n",
      "Requirement already satisfied, skipping upgrade: typing-extensions~=3.7.4 in c:\\users\\udara vimukthi\\anaconda3\\lib\\site-packages (from tensorflow) (3.7.4.3)\n",
      "Requirement already satisfied, skipping upgrade: tensorboard~=2.5 in c:\\users\\udara vimukthi\\anaconda3\\lib\\site-packages (from tensorflow) (2.5.0)\n",
      "Requirement already satisfied, skipping upgrade: grpcio~=1.34.0 in c:\\users\\udara vimukthi\\anaconda3\\lib\\site-packages (from tensorflow) (1.34.1)\n",
      "Requirement already satisfied, skipping upgrade: h5py~=3.1.0 in c:\\users\\udara vimukthi\\anaconda3\\lib\\site-packages (from tensorflow) (3.1.0)\n",
      "Requirement already satisfied, skipping upgrade: protobuf>=3.9.2 in c:\\users\\udara vimukthi\\anaconda3\\lib\\site-packages (from tensorflow) (3.17.3)\n",
      "Requirement already satisfied, skipping upgrade: astunparse~=1.6.3 in c:\\users\\udara vimukthi\\anaconda3\\lib\\site-packages (from tensorflow) (1.6.3)\n",
      "Requirement already satisfied, skipping upgrade: flatbuffers~=1.12.0 in c:\\users\\udara vimukthi\\anaconda3\\lib\\site-packages (from tensorflow) (1.12)\n",
      "Requirement already satisfied, skipping upgrade: google-pasta~=0.2 in c:\\users\\udara vimukthi\\anaconda3\\lib\\site-packages (from tensorflow) (0.2.0)\n",
      "Requirement already satisfied, skipping upgrade: tensorboard-data-server<0.7.0,>=0.6.0 in c:\\users\\udara vimukthi\\anaconda3\\lib\\site-packages (from tensorboard~=2.5->tensorflow) (0.6.1)\n",
      "Requirement already satisfied, skipping upgrade: werkzeug>=0.11.15 in c:\\users\\udara vimukthi\\anaconda3\\lib\\site-packages (from tensorboard~=2.5->tensorflow) (2.0.1)\n",
      "Requirement already satisfied, skipping upgrade: markdown>=2.6.8 in c:\\users\\udara vimukthi\\anaconda3\\lib\\site-packages (from tensorboard~=2.5->tensorflow) (3.3.4)\n",
      "Requirement already satisfied, skipping upgrade: requests<3,>=2.21.0 in c:\\users\\udara vimukthi\\anaconda3\\lib\\site-packages (from tensorboard~=2.5->tensorflow) (2.25.1)\n",
      "Requirement already satisfied, skipping upgrade: tensorboard-plugin-wit>=1.6.0 in c:\\users\\udara vimukthi\\anaconda3\\lib\\site-packages (from tensorboard~=2.5->tensorflow) (1.8.0)\n",
      "Requirement already satisfied, skipping upgrade: google-auth-oauthlib<0.5,>=0.4.1 in c:\\users\\udara vimukthi\\anaconda3\\lib\\site-packages (from tensorboard~=2.5->tensorflow) (0.4.4)\n",
      "Requirement already satisfied, skipping upgrade: setuptools>=41.0.0 in c:\\users\\udara vimukthi\\anaconda3\\lib\\site-packages (from tensorboard~=2.5->tensorflow) (57.0.0)\n",
      "Requirement already satisfied, skipping upgrade: google-auth<2,>=1.6.3 in c:\\users\\udara vimukthi\\anaconda3\\lib\\site-packages (from tensorboard~=2.5->tensorflow) (1.32.1)\n",
      "Requirement already satisfied, skipping upgrade: idna<3,>=2.5 in c:\\users\\udara vimukthi\\anaconda3\\lib\\site-packages (from requests<3,>=2.21.0->tensorboard~=2.5->tensorflow) (2.10)\n",
      "Requirement already satisfied, skipping upgrade: chardet<5,>=3.0.2 in c:\\users\\udara vimukthi\\anaconda3\\lib\\site-packages (from requests<3,>=2.21.0->tensorboard~=2.5->tensorflow) (4.0.0)\n",
      "Requirement already satisfied, skipping upgrade: urllib3<1.27,>=1.21.1 in c:\\users\\udara vimukthi\\anaconda3\\lib\\site-packages (from requests<3,>=2.21.0->tensorboard~=2.5->tensorflow) (1.26.6)\n",
      "Requirement already satisfied, skipping upgrade: certifi>=2017.4.17 in c:\\users\\udara vimukthi\\anaconda3\\lib\\site-packages (from requests<3,>=2.21.0->tensorboard~=2.5->tensorflow) (2021.5.30)\n",
      "Requirement already satisfied, skipping upgrade: requests-oauthlib>=0.7.0 in c:\\users\\udara vimukthi\\anaconda3\\lib\\site-packages (from google-auth-oauthlib<0.5,>=0.4.1->tensorboard~=2.5->tensorflow) (1.3.0)\n",
      "Requirement already satisfied, skipping upgrade: cachetools<5.0,>=2.0.0 in c:\\users\\udara vimukthi\\anaconda3\\lib\\site-packages (from google-auth<2,>=1.6.3->tensorboard~=2.5->tensorflow) (4.2.2)\n",
      "Requirement already satisfied, skipping upgrade: pyasn1-modules>=0.2.1 in c:\\users\\udara vimukthi\\anaconda3\\lib\\site-packages (from google-auth<2,>=1.6.3->tensorboard~=2.5->tensorflow) (0.2.8)\n",
      "Requirement already satisfied, skipping upgrade: rsa<5,>=3.1.4; python_version >= \"3.6\" in c:\\users\\udara vimukthi\\anaconda3\\lib\\site-packages (from google-auth<2,>=1.6.3->tensorboard~=2.5->tensorflow) (4.7.2)\n",
      "Requirement already satisfied, skipping upgrade: oauthlib>=3.0.0 in c:\\users\\udara vimukthi\\anaconda3\\lib\\site-packages (from requests-oauthlib>=0.7.0->google-auth-oauthlib<0.5,>=0.4.1->tensorboard~=2.5->tensorflow) (3.1.1)\n",
      "Requirement already satisfied, skipping upgrade: pyasn1<0.5.0,>=0.4.6 in c:\\users\\udara vimukthi\\anaconda3\\lib\\site-packages (from pyasn1-modules>=0.2.1->google-auth<2,>=1.6.3->tensorboard~=2.5->tensorflow) (0.4.8)\n"
     ]
    }
   ],
   "source": [
    "!pip install tensorflow --upgrade --user"
   ]
  },
  {
   "cell_type": "code",
   "execution_count": 3,
   "metadata": {},
   "outputs": [
    {
     "name": "stdout",
     "output_type": "stream",
     "text": [
      "Requirement already up-to-date: keras in c:\\users\\udara vimukthi\\appdata\\roaming\\python\\python38\\site-packages (2.4.3)\n",
      "Requirement already satisfied, skipping upgrade: scipy>=0.14 in c:\\users\\udara vimukthi\\anaconda3\\lib\\site-packages (from keras) (1.5.2)\n",
      "Requirement already satisfied, skipping upgrade: pyyaml in c:\\users\\udara vimukthi\\anaconda3\\lib\\site-packages (from keras) (5.3.1)\n",
      "Requirement already satisfied, skipping upgrade: h5py in c:\\users\\udara vimukthi\\anaconda3\\lib\\site-packages (from keras) (3.1.0)\n",
      "Requirement already satisfied, skipping upgrade: numpy>=1.9.1 in c:\\users\\udara vimukthi\\anaconda3\\lib\\site-packages (from keras) (1.19.5)\n"
     ]
    }
   ],
   "source": [
    "!pip install keras --upgrade --user"
   ]
  },
  {
   "cell_type": "code",
   "execution_count": 4,
   "metadata": {},
   "outputs": [
    {
     "name": "stdout",
     "output_type": "stream",
     "text": [
      "   SEX  AGEIR   TC  HDL  SMOKE_  BPMED  DIAB_01  RISK\n",
      "0    1     48  236   66       0      1        0   1.1\n",
      "1    0     48  260   51       0      1        1   7.0\n",
      "2    0     44  187   49       1      1        0   7.0\n",
      "3    1     42  216   57       1      1        0   0.4\n",
      "4    1     56  156   42       0      1        0   2.2\n"
     ]
    }
   ],
   "source": [
    "import pandas as pd\n",
    "import numpy as np\n",
    "\n",
    "dataset=pd.read_csv('cardio_dataset.csv')\n",
    "print(dataset.head())\n",
    "dataset=dataset.values"
   ]
  },
  {
   "cell_type": "code",
   "execution_count": 5,
   "metadata": {},
   "outputs": [],
   "source": [
    "data=dataset[:,0:7]\n",
    "target=dataset[:,7]"
   ]
  },
  {
   "cell_type": "code",
   "execution_count": 6,
   "metadata": {},
   "outputs": [],
   "source": [
    "from sklearn.preprocessing import MinMaxScaler\n",
    "\n",
    "target=np.reshape(target, (-1,1))\n",
    "\n",
    "scaler_data = MinMaxScaler(feature_range=(0,1))\n",
    "scaler_target = MinMaxScaler()\n",
    "\n",
    "data_scaled=scaler_data.fit_transform(data)\n",
    "target_scaled=scaler_target.fit_transform(target)"
   ]
  },
  {
   "cell_type": "code",
   "execution_count": 7,
   "metadata": {},
   "outputs": [],
   "source": [
    "from sklearn.model_selection import train_test_split\n",
    "\n",
    "train_data, test_data, train_target, test_target = train_test_split(data_scaled, target_scaled,test_size=0.2)"
   ]
  },
  {
   "cell_type": "code",
   "execution_count": 8,
   "metadata": {},
   "outputs": [],
   "source": [
    "from keras.models import Sequential\n",
    "from keras.layers import Dense,Dropout\n",
    "import numpy as np\n",
    "\n",
    "from keras.optimizers import Adam,Adagrad,Adadelta\n",
    "\n",
    "def build_model(parameters):\n",
    "    \n",
    "    model = Sequential()\n",
    "    \n",
    "    for i in range(parameters.Int('num_layers', 2, 20)):\n",
    "\n",
    "        if(i==0):\n",
    "            model.add(Dense(units=parameters.Int('#neurons layer' + str(i),min_value=32,max_value=512,step=32),\n",
    "                            activation=parameters.Choice('activation_function '+str(i),['relu','sigmoid','tanh']),input_dim=7))\n",
    "            \n",
    "            model.add(Dropout(parameters.Choice('drop_prob 1',[0.2,0.3,0.4,0.5])))\n",
    "        \n",
    "        else:\n",
    "            model.add(Dense(units=parameters.Int('#neurons layer' + str(i),min_value=32,max_value=512,step=32),\n",
    "                                   activation=parameters.Choice('activation_function '+str(i),['relu','sigmoid','tanh'])))\n",
    "            \n",
    "            model.add(Dropout(parameters.Choice('drop_prob 2',[0.2,0.3,0.4,0.5])))\n",
    "            \n",
    "    model.add(Dense(1, activation='linear'))\n",
    "    \n",
    "    model.compile(optimizer=parameters.Choice('optmz', ['adam', 'adaDelta', 'adaGrad']),loss=parameters.Choice('loss f', ['mse', 'mae']))\n",
    "    #model.compile(optimizer=Adam(parameters.Choice('learning_rate', [1e-2, 1e-3, 1e-4])),loss='mse')\n",
    "    \n",
    "    return model"
   ]
  },
  {
   "cell_type": "code",
   "execution_count": 9,
   "metadata": {},
   "outputs": [
    {
     "name": "stderr",
     "output_type": "stream",
     "text": [
      "<ipython-input-9-b45e668e7ffa>:1: DeprecationWarning: `import kerastuner` is deprecated, please use `import keras_tuner`.\n",
      "  from kerastuner.tuners import RandomSearch\n"
     ]
    }
   ],
   "source": [
    "from kerastuner.tuners import RandomSearch\n",
    "\n",
    "tuner = RandomSearch(build_model,objective='val_loss',max_trials=5,executions_per_trial=3,directory='project',\n",
    "                     project_name='heart-risk')"
   ]
  },
  {
   "cell_type": "markdown",
   "metadata": {},
   "source": [
    "[more info](https://keras-team.github.io/keras-tuner/)"
   ]
  },
  {
   "cell_type": "code",
   "execution_count": 10,
   "metadata": {},
   "outputs": [
    {
     "name": "stdout",
     "output_type": "stream",
     "text": [
      "Search space summary\n",
      "Default search space size: 9\n",
      "num_layers (Int)\n",
      "{'default': None, 'conditions': [], 'min_value': 2, 'max_value': 20, 'step': 1, 'sampling': None}\n",
      "#neurons layer0 (Int)\n",
      "{'default': None, 'conditions': [], 'min_value': 32, 'max_value': 512, 'step': 32, 'sampling': None}\n",
      "activation_function 0 (Choice)\n",
      "{'default': 'relu', 'conditions': [], 'values': ['relu', 'sigmoid', 'tanh'], 'ordered': False}\n",
      "drop_prob 1 (Choice)\n",
      "{'default': 0.2, 'conditions': [], 'values': [0.2, 0.3, 0.4, 0.5], 'ordered': True}\n",
      "#neurons layer1 (Int)\n",
      "{'default': None, 'conditions': [], 'min_value': 32, 'max_value': 512, 'step': 32, 'sampling': None}\n",
      "activation_function 1 (Choice)\n",
      "{'default': 'relu', 'conditions': [], 'values': ['relu', 'sigmoid', 'tanh'], 'ordered': False}\n",
      "drop_prob 2 (Choice)\n",
      "{'default': 0.2, 'conditions': [], 'values': [0.2, 0.3, 0.4, 0.5], 'ordered': True}\n",
      "optmz (Choice)\n",
      "{'default': 'adam', 'conditions': [], 'values': ['adam', 'adaDelta', 'adaGrad'], 'ordered': False}\n",
      "loss f (Choice)\n",
      "{'default': 'mse', 'conditions': [], 'values': ['mse', 'mae'], 'ordered': False}\n"
     ]
    }
   ],
   "source": [
    "tuner.search_space_summary()"
   ]
  },
  {
   "cell_type": "code",
   "execution_count": 11,
   "metadata": {
    "scrolled": false
   },
   "outputs": [
    {
     "name": "stdout",
     "output_type": "stream",
     "text": [
      "Trial 5 Complete [00h 00m 51s]\n",
      "val_loss: 0.02368810400366783\n",
      "\n",
      "Best val_loss So Far: 0.023663746193051338\n",
      "Total elapsed time: 00h 05m 21s\n",
      "INFO:tensorflow:Oracle triggered exit\n"
     ]
    }
   ],
   "source": [
    "tuner.search(train_data,train_target,epochs=10,validation_data=(test_data, test_target))"
   ]
  },
  {
   "cell_type": "code",
   "execution_count": 9,
   "metadata": {
    "scrolled": false
   },
   "outputs": [
    {
     "name": "stdout",
     "output_type": "stream",
     "text": [
      "Results summary\n",
      "Results in project\\heart-risk\n",
      "Showing 10 best trials\n",
      "Objective(name='val_loss', direction='min')\n",
      "Trial summary\n",
      "Hyperparameters:\n",
      "num_layers: 6\n",
      "#neurons layer0: 32\n",
      "activation_function 0: relu\n",
      "drop_prob 1: 0.5\n",
      "#neurons layer1: 320\n",
      "activation_function 1: relu\n",
      "drop_prob 2: 0.2\n",
      "optmz: adaDelta\n",
      "#neurons layer2: 480\n",
      "activation_function 2: relu\n",
      "#neurons layer3: 384\n",
      "activation_function 3: sigmoid\n",
      "#neurons layer4: 64\n",
      "activation_function 4: relu\n",
      "#neurons layer5: 352\n",
      "activation_function 5: sigmoid\n",
      "#neurons layer6: 256\n",
      "activation_function 6: relu\n",
      "#neurons layer7: 480\n",
      "activation_function 7: relu\n",
      "#neurons layer8: 480\n",
      "activation_function 8: sigmoid\n",
      "#neurons layer9: 64\n",
      "activation_function 9: sigmoid\n",
      "#neurons layer10: 512\n",
      "activation_function 10: sigmoid\n",
      "#neurons layer11: 64\n",
      "activation_function 11: relu\n",
      "Score: 0.024247843772172928\n",
      "Trial summary\n",
      "Hyperparameters:\n",
      "num_layers: 8\n",
      "#neurons layer0: 512\n",
      "activation_function 0: tanh\n",
      "drop_prob 1: 0.2\n",
      "#neurons layer1: 256\n",
      "activation_function 1: relu\n",
      "drop_prob 2: 0.3\n",
      "optmz: adaGrad\n",
      "#neurons layer2: 192\n",
      "activation_function 2: relu\n",
      "#neurons layer3: 384\n",
      "activation_function 3: relu\n",
      "#neurons layer4: 32\n",
      "activation_function 4: relu\n",
      "#neurons layer5: 352\n",
      "activation_function 5: tanh\n",
      "#neurons layer6: 256\n",
      "activation_function 6: sigmoid\n",
      "#neurons layer7: 256\n",
      "activation_function 7: sigmoid\n",
      "#neurons layer8: 352\n",
      "activation_function 8: sigmoid\n",
      "#neurons layer9: 512\n",
      "activation_function 9: tanh\n",
      "#neurons layer10: 128\n",
      "activation_function 10: relu\n",
      "#neurons layer11: 512\n",
      "activation_function 11: relu\n",
      "Score: 0.02426896058022976\n",
      "Trial summary\n",
      "Hyperparameters:\n",
      "num_layers: 9\n",
      "#neurons layer0: 416\n",
      "activation_function 0: sigmoid\n",
      "drop_prob 1: 0.2\n",
      "#neurons layer1: 96\n",
      "activation_function 1: sigmoid\n",
      "drop_prob 2: 0.5\n",
      "optmz: adaDelta\n",
      "#neurons layer2: 320\n",
      "activation_function 2: tanh\n",
      "#neurons layer3: 256\n",
      "activation_function 3: sigmoid\n",
      "#neurons layer4: 480\n",
      "activation_function 4: tanh\n",
      "#neurons layer5: 352\n",
      "activation_function 5: tanh\n",
      "#neurons layer6: 192\n",
      "activation_function 6: relu\n",
      "#neurons layer7: 288\n",
      "activation_function 7: sigmoid\n",
      "#neurons layer8: 448\n",
      "activation_function 8: tanh\n",
      "#neurons layer9: 96\n",
      "activation_function 9: relu\n",
      "#neurons layer10: 64\n",
      "activation_function 10: relu\n",
      "#neurons layer11: 128\n",
      "activation_function 11: sigmoid\n",
      "Score: 0.024722013001640637\n",
      "Trial summary\n",
      "Hyperparameters:\n",
      "num_layers: 10\n",
      "#neurons layer0: 96\n",
      "activation_function 0: tanh\n",
      "drop_prob 1: 0.5\n",
      "#neurons layer1: 416\n",
      "activation_function 1: tanh\n",
      "drop_prob 2: 0.5\n",
      "optmz: adaDelta\n",
      "#neurons layer2: 256\n",
      "activation_function 2: sigmoid\n",
      "#neurons layer3: 448\n",
      "activation_function 3: tanh\n",
      "#neurons layer4: 128\n",
      "activation_function 4: tanh\n",
      "#neurons layer5: 224\n",
      "activation_function 5: sigmoid\n",
      "#neurons layer6: 480\n",
      "activation_function 6: tanh\n",
      "#neurons layer7: 96\n",
      "activation_function 7: sigmoid\n",
      "#neurons layer8: 256\n",
      "activation_function 8: sigmoid\n",
      "#neurons layer9: 64\n",
      "activation_function 9: relu\n",
      "#neurons layer10: 288\n",
      "activation_function 10: relu\n",
      "#neurons layer11: 256\n",
      "activation_function 11: relu\n",
      "Score: 0.027579333012302715\n",
      "Trial summary\n",
      "Hyperparameters:\n",
      "num_layers: 12\n",
      "#neurons layer0: 256\n",
      "activation_function 0: tanh\n",
      "drop_prob 1: 0.3\n",
      "#neurons layer1: 288\n",
      "activation_function 1: sigmoid\n",
      "drop_prob 2: 0.2\n",
      "optmz: adaDelta\n",
      "#neurons layer2: 32\n",
      "activation_function 2: relu\n",
      "#neurons layer3: 32\n",
      "activation_function 3: relu\n",
      "#neurons layer4: 32\n",
      "activation_function 4: relu\n",
      "#neurons layer5: 32\n",
      "activation_function 5: relu\n",
      "#neurons layer6: 32\n",
      "activation_function 6: relu\n",
      "#neurons layer7: 32\n",
      "activation_function 7: relu\n",
      "#neurons layer8: 32\n",
      "activation_function 8: relu\n",
      "#neurons layer9: 32\n",
      "activation_function 9: relu\n",
      "#neurons layer10: 32\n",
      "activation_function 10: relu\n",
      "#neurons layer11: 32\n",
      "activation_function 11: relu\n",
      "Score: 0.037925789753595986\n"
     ]
    }
   ],
   "source": [
    "tuner.results_summary()"
   ]
  },
  {
   "cell_type": "code",
   "execution_count": 10,
   "metadata": {},
   "outputs": [
    {
     "name": "stdout",
     "output_type": "stream",
     "text": [
      "Model: \"sequential\"\n",
      "_________________________________________________________________\n",
      "Layer (type)                 Output Shape              Param #   \n",
      "=================================================================\n",
      "dense (Dense)                (None, 32)                256       \n",
      "_________________________________________________________________\n",
      "dropout (Dropout)            (None, 32)                0         \n",
      "_________________________________________________________________\n",
      "dense_1 (Dense)              (None, 320)               10560     \n",
      "_________________________________________________________________\n",
      "dropout_1 (Dropout)          (None, 320)               0         \n",
      "_________________________________________________________________\n",
      "dense_2 (Dense)              (None, 480)               154080    \n",
      "_________________________________________________________________\n",
      "dropout_2 (Dropout)          (None, 480)               0         \n",
      "_________________________________________________________________\n",
      "dense_3 (Dense)              (None, 384)               184704    \n",
      "_________________________________________________________________\n",
      "dropout_3 (Dropout)          (None, 384)               0         \n",
      "_________________________________________________________________\n",
      "dense_4 (Dense)              (None, 64)                24640     \n",
      "_________________________________________________________________\n",
      "dropout_4 (Dropout)          (None, 64)                0         \n",
      "_________________________________________________________________\n",
      "dense_5 (Dense)              (None, 352)               22880     \n",
      "_________________________________________________________________\n",
      "dropout_5 (Dropout)          (None, 352)               0         \n",
      "_________________________________________________________________\n",
      "dense_6 (Dense)              (None, 1)                 353       \n",
      "=================================================================\n",
      "Total params: 397,473\n",
      "Trainable params: 397,473\n",
      "Non-trainable params: 0\n",
      "_________________________________________________________________\n",
      "None\n"
     ]
    }
   ],
   "source": [
    "best_models = tuner.get_best_models()\n",
    "print(best_models[0].summary())"
   ]
  },
  {
   "cell_type": "code",
   "execution_count": null,
   "metadata": {},
   "outputs": [],
   "source": []
  }
 ],
 "metadata": {
  "kernelspec": {
   "display_name": "Python 3",
   "language": "python",
   "name": "python3"
  },
  "language_info": {
   "codemirror_mode": {
    "name": "ipython",
    "version": 3
   },
   "file_extension": ".py",
   "mimetype": "text/x-python",
   "name": "python",
   "nbconvert_exporter": "python",
   "pygments_lexer": "ipython3",
   "version": "3.8.5"
  }
 },
 "nbformat": 4,
 "nbformat_minor": 2
}
