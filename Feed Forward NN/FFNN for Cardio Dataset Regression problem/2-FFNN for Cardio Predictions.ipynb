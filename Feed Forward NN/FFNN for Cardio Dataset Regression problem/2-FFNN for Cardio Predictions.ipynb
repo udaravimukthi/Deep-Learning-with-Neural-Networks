{
 "cells": [
  {
   "cell_type": "code",
   "execution_count": 1,
   "metadata": {},
   "outputs": [],
   "source": [
    "from keras.models import load_model\n",
    "import joblib\n",
    "\n",
    "model=load_model('cardio-FFNN.model')\n",
    "\n",
    "scaler_data=joblib.load('scaler_data.sav')\n",
    "scaler_target=joblib.load('scaler_target.sav')"
   ]
  },
  {
   "cell_type": "code",
   "execution_count": 2,
   "metadata": {},
   "outputs": [
    {
     "name": "stdout",
     "output_type": "stream",
     "text": [
      "[[  1  56 156  42   0   1   0]]\n"
     ]
    }
   ],
   "source": [
    "import numpy as np\n",
    "my_test_data=[1,56,156,42,0,1,0]\n",
    "my_test_data=np.array(my_test_data).reshape(1,-1)\n",
    "print(my_test_data)"
   ]
  },
  {
   "cell_type": "code",
   "execution_count": 3,
   "metadata": {},
   "outputs": [
    {
     "name": "stdout",
     "output_type": "stream",
     "text": [
      "[[0.         0.41025641 0.21945701 0.16304348 0.         0.\n",
      "  0.        ]]\n"
     ]
    }
   ],
   "source": [
    "#no need to fit again, already trainable model, transform is enough fo testing purpose\n",
    "\n",
    "scaled_test_data=scaler_data.transform(my_test_data)\n",
    "print(scaled_test_data)"
   ]
  },
  {
   "cell_type": "code",
   "execution_count": 4,
   "metadata": {},
   "outputs": [
    {
     "name": "stdout",
     "output_type": "stream",
     "text": [
      "[[0.13330068]]\n"
     ]
    }
   ],
   "source": [
    "#prediction\n",
    "\n",
    "result=model.predict(scaled_test_data)\n",
    "print(result)"
   ]
  },
  {
   "cell_type": "code",
   "execution_count": 5,
   "metadata": {},
   "outputs": [
    {
     "name": "stdout",
     "output_type": "stream",
     "text": [
      "[[11.470548]]\n"
     ]
    }
   ],
   "source": [
    "#by inversing abouve output to get actual one\n",
    "\n",
    "result=scaler_target.inverse_transform(result)\n",
    "print(result)"
   ]
  },
  {
   "cell_type": "code",
   "execution_count": null,
   "metadata": {},
   "outputs": [],
   "source": []
  }
 ],
 "metadata": {
  "kernelspec": {
   "display_name": "Python 3",
   "language": "python",
   "name": "python3"
  },
  "language_info": {
   "codemirror_mode": {
    "name": "ipython",
    "version": 3
   },
   "file_extension": ".py",
   "mimetype": "text/x-python",
   "name": "python",
   "nbconvert_exporter": "python",
   "pygments_lexer": "ipython3",
   "version": "3.8.5"
  }
 },
 "nbformat": 4,
 "nbformat_minor": 4
}
