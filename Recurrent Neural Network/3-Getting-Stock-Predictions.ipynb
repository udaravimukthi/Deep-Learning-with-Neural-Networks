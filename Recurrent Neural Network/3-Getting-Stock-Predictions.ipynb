{
 "cells": [
  {
   "cell_type": "code",
   "execution_count": 1,
   "metadata": {},
   "outputs": [],
   "source": [
    "from keras.models import load_model\n",
    "\n",
    "model=load_model('LSTM-Stock-Market.model')"
   ]
  },
  {
   "cell_type": "code",
   "execution_count": 4,
   "metadata": {},
   "outputs": [],
   "source": [
    "import joblib\n",
    "\n",
    "scaler=joblib.load('stock-scaler.sav')"
   ]
  },
  {
   "cell_type": "code",
   "execution_count": 16,
   "metadata": {},
   "outputs": [
    {
     "name": "stdout",
     "output_type": "stream",
     "text": [
      "(1, 50)\n"
     ]
    }
   ],
   "source": [
    "import numpy as np\n",
    "\n",
    "test_data=np.array([60.6428,60.6928,60.9085,61.1571,61.9599,62.0214,60.9999,60.2242,60.0385,57.8557,55.4242,56.0914,57.7128,56.2199,58.7464,58.5442,60.0642,62.1571,63.4942,63.1114,64.4728,65.1014,66.4242,65.5771,65.6871,65.4242,64.5014,64.8356,62.7371,60.4628,62.7214,61.7014,62.5928,63.4357,62.2785,62.9785,64.2714,\n",
    "           62.8571,63.6642,64.6428,64.3899,64.7456,63.6642,63.6385,62.3571,63.5328,62.2485,62.7857,61.7857,62.1999]).reshape(1,-1)\n",
    "print(test_data.shape)"
   ]
  },
  {
   "cell_type": "code",
   "execution_count": 17,
   "metadata": {},
   "outputs": [],
   "source": [
    "test_data=scaler.transform(test_data)"
   ]
  },
  {
   "cell_type": "code",
   "execution_count": 18,
   "metadata": {},
   "outputs": [],
   "source": [
    "test_data=test_data.reshape((1,50,1))\n",
    "\n",
    "result=model.predict(test_data)"
   ]
  },
  {
   "cell_type": "code",
   "execution_count": 19,
   "metadata": {},
   "outputs": [
    {
     "name": "stdout",
     "output_type": "stream",
     "text": [
      "[[0.06329167]]\n"
     ]
    }
   ],
   "source": [
    "print(result)"
   ]
  },
  {
   "cell_type": "code",
   "execution_count": 25,
   "metadata": {},
   "outputs": [
    {
     "name": "stdout",
     "output_type": "stream",
     "text": [
      "63.26894\n"
     ]
    }
   ],
   "source": [
    "transformed_result=scaler.inverse_transform(result)\n",
    "print(transformed_result[0][0])"
   ]
  },
  {
   "cell_type": "code",
   "execution_count": null,
   "metadata": {},
   "outputs": [],
   "source": []
  }
 ],
 "metadata": {
  "kernelspec": {
   "display_name": "Python 3",
   "language": "python",
   "name": "python3"
  },
  "language_info": {
   "codemirror_mode": {
    "name": "ipython",
    "version": 3
   },
   "file_extension": ".py",
   "mimetype": "text/x-python",
   "name": "python",
   "nbconvert_exporter": "python",
   "pygments_lexer": "ipython3",
   "version": "3.8.5"
  }
 },
 "nbformat": 4,
 "nbformat_minor": 4
}
