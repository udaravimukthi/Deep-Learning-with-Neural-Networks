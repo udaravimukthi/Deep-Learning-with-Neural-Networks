{
 "cells": [
  {
   "cell_type": "markdown",
   "metadata": {},
   "source": [
    "* Exercise 1 _Numpy vs Pandas"
   ]
  },
  {
   "cell_type": "code",
   "execution_count": 1,
   "metadata": {},
   "outputs": [],
   "source": [
    "import pandas as pd"
   ]
  },
  {
   "cell_type": "code",
   "execution_count": 3,
   "metadata": {},
   "outputs": [],
   "source": [
    "dataset = pd.read_csv('Students-marks.csv')"
   ]
  },
  {
   "cell_type": "code",
   "execution_count": 4,
   "metadata": {},
   "outputs": [
    {
     "name": "stdout",
     "output_type": "stream",
     "text": [
      "      Name  Maths  Physics  Chemistry\n",
      "0     John     45       25         98\n",
      "1  William     76       55         35\n",
      "2    Henry     22       89         67\n",
      "3    Chris     88       55         77\n"
     ]
    }
   ],
   "source": [
    "print(dataset)"
   ]
  },
  {
   "cell_type": "markdown",
   "metadata": {},
   "source": [
    "pandas wlin array ekakta daagnna widiya"
   ]
  },
  {
   "cell_type": "code",
   "execution_count": 5,
   "metadata": {},
   "outputs": [],
   "source": [
    "dataset = pd.read_csv('Students-marks.csv').values"
   ]
  },
  {
   "cell_type": "code",
   "execution_count": 6,
   "metadata": {},
   "outputs": [
    {
     "name": "stdout",
     "output_type": "stream",
     "text": [
      "[['John' 45 25 98]\n",
      " ['William' 76 55 35]\n",
      " ['Henry' 22 89 67]\n",
      " ['Chris' 88 55 77]]\n"
     ]
    }
   ],
   "source": [
    "print(dataset)"
   ]
  },
  {
   "cell_type": "code",
   "execution_count": 11,
   "metadata": {},
   "outputs": [
    {
     "name": "stdout",
     "output_type": "stream",
     "text": [
      "2 (4, 4) 67\n"
     ]
    }
   ],
   "source": [
    "print(dataset.ndim, dataset.shape, dataset[2,3])"
   ]
  },
  {
   "cell_type": "code",
   "execution_count": 9,
   "metadata": {},
   "outputs": [],
   "source": [
    "import numpy as np"
   ]
  },
  {
   "cell_type": "code",
   "execution_count": 22,
   "metadata": {},
   "outputs": [
    {
     "name": "stdout",
     "output_type": "stream",
     "text": [
      "[56.0 55.333333333333336 59.333333333333336 73.33333333333333]\n"
     ]
    }
   ],
   "source": [
    "avg = np.mean(dataset[:,1:4],axis=1)\n",
    "print(avg)"
   ]
  },
  {
   "cell_type": "code",
   "execution_count": 23,
   "metadata": {},
   "outputs": [],
   "source": [
    "def findGrade(mark):\n",
    "    if(mark>=0 and mark<35):\n",
    "       grade='F'\n",
    "    elif(mark>=35 and mark<45):\n",
    "       grade='S'\n",
    "    elif(mark>=45 and mark<65):\n",
    "       grade='C'\n",
    "    elif(mark>=65 and mark<75):\n",
    "       grade='B'\n",
    "    elif(mark>=75 and mark<=100):\n",
    "       grade='A'\n",
    "    return grade\n",
    "        "
   ]
  },
  {
   "cell_type": "raw",
   "metadata": {},
   "source": []
  },
  {
   "cell_type": "code",
   "execution_count": 24,
   "metadata": {},
   "outputs": [
    {
     "name": "stdout",
     "output_type": "stream",
     "text": [
      "['C' 'A' 'F' 'A']\n"
     ]
    }
   ],
   "source": [
    "mathsGrades= np.array([findGrade(i) for i in dataset[:,1]])\n",
    "\n",
    "print(mathsGrades)"
   ]
  },
  {
   "cell_type": "code",
   "execution_count": 25,
   "metadata": {},
   "outputs": [
    {
     "name": "stdout",
     "output_type": "stream",
     "text": [
      "[['C']\n",
      " ['A']\n",
      " ['F']\n",
      " ['A']]\n"
     ]
    }
   ],
   "source": [
    "mathsGrades=mathsGrades.reshape(-1,1)\n",
    "print(mathsGrades)"
   ]
  },
  {
   "cell_type": "markdown",
   "metadata": {},
   "source": [
    "append new cloum aboujt grades to dataset"
   ]
  },
  {
   "cell_type": "code",
   "execution_count": 26,
   "metadata": {},
   "outputs": [
    {
     "name": "stdout",
     "output_type": "stream",
     "text": [
      "[['John' 45 25 98 'C' 'C']\n",
      " ['William' 76 55 35 'A' 'A']\n",
      " ['Henry' 22 89 67 'F' 'F']\n",
      " ['Chris' 88 55 77 'A' 'A']]\n"
     ]
    }
   ],
   "source": [
    "dataset=np.append(dataset,mathsGrades,axis=1)\n",
    "print(dataset)"
   ]
  },
  {
   "cell_type": "markdown",
   "metadata": {},
   "source": [
    "converting to a dataframe"
   ]
  },
  {
   "cell_type": "code",
   "execution_count": 29,
   "metadata": {},
   "outputs": [
    {
     "name": "stdout",
     "output_type": "stream",
     "text": [
      "         0   1   2   3  4  5\n",
      "0     John  45  25  98  C  C\n",
      "1  William  76  55  35  A  A\n",
      "2    Henry  22  89  67  F  F\n",
      "3    Chris  88  55  77  A  A\n"
     ]
    }
   ],
   "source": [
    "df=pd.DataFrame(data=dataset)\n",
    "print(df)"
   ]
  },
  {
   "cell_type": "code",
   "execution_count": 32,
   "metadata": {},
   "outputs": [
    {
     "name": "stdout",
     "output_type": "stream",
     "text": [
      "      name maths phy chem m-grade  c\n",
      "0     John    45  25   98       C  C\n",
      "1  William    76  55   35       A  A\n",
      "2    Henry    22  89   67       F  F\n",
      "3    Chris    88  55   77       A  A\n"
     ]
    }
   ],
   "source": [
    "df=pd.DataFrame(data=dataset,columns=[\"name\",\"maths\",\"phy\",\"chem\",\"m-grade\",\"c\"])\n",
    "print(df)"
   ]
  },
  {
   "cell_type": "markdown",
   "metadata": {},
   "source": [
    "Save to csv"
   ]
  },
  {
   "cell_type": "code",
   "execution_count": 33,
   "metadata": {},
   "outputs": [],
   "source": [
    "df.to_csv('new-dataset.csv',index=False )"
   ]
  },
  {
   "cell_type": "code",
   "execution_count": null,
   "metadata": {},
   "outputs": [],
   "source": []
  }
 ],
 "metadata": {
  "kernelspec": {
   "display_name": "Python 3",
   "language": "python",
   "name": "python3"
  },
  "language_info": {
   "codemirror_mode": {
    "name": "ipython",
    "version": 3
   },
   "file_extension": ".py",
   "mimetype": "text/x-python",
   "name": "python",
   "nbconvert_exporter": "python",
   "pygments_lexer": "ipython3",
   "version": "3.8.5"
  }
 },
 "nbformat": 4,
 "nbformat_minor": 4
}
